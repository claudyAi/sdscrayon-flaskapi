{
 "cells": [
  {
   "cell_type": "markdown",
   "metadata": {},
   "source": [
    "# Access GEDI L4B Dataset with OGC Web Services\n",
    "\n",
    "This tutorial will demonstrate how to visualize and access [Global Ecosystem Dynamics Investigation (GEDI) L4B Gridded Aboveground Biomass Density (AGBD) dataset](https://doi.org/10.3334/ORNLDAAC/2017) using the [Open Geospatial Consortium (OGC)](http://www.opengeospatial.org/) web services. The OGC web services offer a simple HTTP interface for requesting access, visualization, and processing of geospatial datasets. GEDI L4B dataset is available in ORNL DAAC's [Spatial Data Access Tools (SDAT)](https://webmap.ornl.gov/ogc/dataset.jsp?ds_id=2017), which offers OGC-based web services to visualize and download spatial data in various user-selected spatial/temporal extents and formats. For GEDI L4B, which is a gridded dataset, two different requests are currently supported: (1) [web map service (WMS)](https://www.ogc.org/standards/wms/introduction) to request map images for visualization of geospatial data from a remote server, (2) [web coverage service (WCS)](https://www.ogc.org/standards/wcs) to download geospatial data from a remote server.\n",
    "\n",
    "For this tutorial, we will first visualize the GEDI L4B dataset over Australia using the OGC WMS service and then access the dataset using the OGC WCS service to compute summaries of AGBD for six states and two territories of Australia.\n",
    "\n",
    "This tutorial requires the following Python modules installed in your system: `folium`, `owslib`, `pandas`, `geopandas`, `requests`, `rasterio`, `rasterstats`, `matplotlib`, . Requirements are also in [requirements.txt](requirements.txt). To install the necessary Python modules, you can copy the requirements.txt from this repository and run:\n",
    "```bash\n",
    "pip install -r requirements.txt\n",
    "```"
   ]
  },
  {
   "cell_type": "code",
   "execution_count": 1,
   "id": "365e8eea",
   "metadata": {},
   "outputs": [],
   "source": [
    "# import python modules\n",
    "%matplotlib inline\n",
    "%config IPCompleter.greedy=True\n",
    "import folium\n",
    "import owslib.wcs as wcs\n",
    "import owslib.wms as wms\n",
    "import pandas as pd\n",
    "import requests as re\n",
    "import matplotlib.pyplot as plt\n",
    "from folium.plugins import FloatImage\n",
    "from rasterstats import zonal_stats\n",
    "from rasterio.plot import show\n",
    "import datetime as dt \n",
    "from shapely.geometry import Polygon\n",
    "import pygc\n",
    "from tqdm import tqdm\n",
    "import rasterio as rio\n",
    "import numpy as np\n",
    "from geojson import Feature, FeatureCollection, dump\n",
    "import os\n",
    "import geopandas as gpd"
   ]
  },
  {
   "cell_type": "markdown",
   "id": "b987c028",
   "metadata": {},
   "source": [
    "Let's read and plot the GeoJSON file with the states and territories of Australia."
   ]
  },
  {
   "cell_type": "code",
   "execution_count": 2,
   "id": "343d8a1a",
   "metadata": {},
   "outputs": [],
   "source": [
    "# variables for data search\n",
    "\n",
    "# coordinates file path\n",
    "main_datafile_path = \"./csvfiles/estingAustralia.csv\"\n",
    "\n",
    "# lengths in m\n",
    "ew_width = 2000\n",
    "ns_height = 2000\n",
    "size = int(ew_width/1000)"
   ]
  },
  {
   "cell_type": "code",
   "execution_count": 3,
   "id": "341a06f8",
   "metadata": {},
   "outputs": [
    {
     "data": {
      "text/html": [
       "<div>\n",
       "<style scoped>\n",
       "    .dataframe tbody tr th:only-of-type {\n",
       "        vertical-align: middle;\n",
       "    }\n",
       "\n",
       "    .dataframe tbody tr th {\n",
       "        vertical-align: top;\n",
       "    }\n",
       "\n",
       "    .dataframe thead th {\n",
       "        text-align: right;\n",
       "    }\n",
       "</style>\n",
       "<table border=\"1\" class=\"dataframe\">\n",
       "  <thead>\n",
       "    <tr style=\"text-align: right;\">\n",
       "      <th></th>\n",
       "      <th>Unnamed: 0</th>\n",
       "      <th>project</th>\n",
       "      <th>site</th>\n",
       "      <th>lat</th>\n",
       "      <th>long</th>\n",
       "      <th>Granule Number</th>\n",
       "    </tr>\n",
       "  </thead>\n",
       "  <tbody>\n",
       "    <tr>\n",
       "      <th>0</th>\n",
       "      <td>0</td>\n",
       "      <td>SouthWestForests-DON019FireInv</td>\n",
       "      <td>k_1</td>\n",
       "      <td>-34.7310</td>\n",
       "      <td>116.2081</td>\n",
       "      <td>2</td>\n",
       "    </tr>\n",
       "    <tr>\n",
       "      <th>1</th>\n",
       "      <td>1</td>\n",
       "      <td>SouthWestForests-DON019FireInv</td>\n",
       "      <td>k_2</td>\n",
       "      <td>-34.7265</td>\n",
       "      <td>116.2081</td>\n",
       "      <td>2</td>\n",
       "    </tr>\n",
       "    <tr>\n",
       "      <th>2</th>\n",
       "      <td>2</td>\n",
       "      <td>SouthWestForests-DON019FireInv</td>\n",
       "      <td>k_3</td>\n",
       "      <td>-34.6949</td>\n",
       "      <td>116.2085</td>\n",
       "      <td>2</td>\n",
       "    </tr>\n",
       "    <tr>\n",
       "      <th>3</th>\n",
       "      <td>3</td>\n",
       "      <td>SouthWestForests-DON019FireInv</td>\n",
       "      <td>k_4</td>\n",
       "      <td>-34.7265</td>\n",
       "      <td>116.2136</td>\n",
       "      <td>1</td>\n",
       "    </tr>\n",
       "    <tr>\n",
       "      <th>4</th>\n",
       "      <td>4</td>\n",
       "      <td>SouthWestForests-DON019FireInv</td>\n",
       "      <td>k_5</td>\n",
       "      <td>-34.7221</td>\n",
       "      <td>116.2136</td>\n",
       "      <td>1</td>\n",
       "    </tr>\n",
       "    <tr>\n",
       "      <th>...</th>\n",
       "      <td>...</td>\n",
       "      <td>...</td>\n",
       "      <td>...</td>\n",
       "      <td>...</td>\n",
       "      <td>...</td>\n",
       "      <td>...</td>\n",
       "    </tr>\n",
       "    <tr>\n",
       "      <th>241</th>\n",
       "      <td>318</td>\n",
       "      <td>LIRE</td>\n",
       "      <td>k_242</td>\n",
       "      <td>-41.3530</td>\n",
       "      <td>147.5222</td>\n",
       "      <td>1</td>\n",
       "    </tr>\n",
       "    <tr>\n",
       "      <th>242</th>\n",
       "      <td>319</td>\n",
       "      <td>Ausplot Forest Monitoring Network</td>\n",
       "      <td>k_243</td>\n",
       "      <td>-41.3671</td>\n",
       "      <td>147.6032</td>\n",
       "      <td>3</td>\n",
       "    </tr>\n",
       "    <tr>\n",
       "      <th>243</th>\n",
       "      <td>320</td>\n",
       "      <td>LIPL</td>\n",
       "      <td>k_244</td>\n",
       "      <td>-42.4391</td>\n",
       "      <td>147.7789</td>\n",
       "      <td>3</td>\n",
       "    </tr>\n",
       "    <tr>\n",
       "      <th>244</th>\n",
       "      <td>321</td>\n",
       "      <td>LIPL</td>\n",
       "      <td>k_245</td>\n",
       "      <td>-42.7232</td>\n",
       "      <td>147.8451</td>\n",
       "      <td>5</td>\n",
       "    </tr>\n",
       "    <tr>\n",
       "      <th>245</th>\n",
       "      <td>322</td>\n",
       "      <td>LIMI</td>\n",
       "      <td>k_246</td>\n",
       "      <td>-42.7245</td>\n",
       "      <td>147.8632</td>\n",
       "      <td>4</td>\n",
       "    </tr>\n",
       "  </tbody>\n",
       "</table>\n",
       "<p>246 rows × 6 columns</p>\n",
       "</div>"
      ],
      "text/plain": [
       "     Unnamed: 0                            project   site      lat      long  \\\n",
       "0             0     SouthWestForests-DON019FireInv    k_1 -34.7310  116.2081   \n",
       "1             1     SouthWestForests-DON019FireInv    k_2 -34.7265  116.2081   \n",
       "2             2     SouthWestForests-DON019FireInv    k_3 -34.6949  116.2085   \n",
       "3             3     SouthWestForests-DON019FireInv    k_4 -34.7265  116.2136   \n",
       "4             4     SouthWestForests-DON019FireInv    k_5 -34.7221  116.2136   \n",
       "..          ...                                ...    ...      ...       ...   \n",
       "241         318                               LIRE  k_242 -41.3530  147.5222   \n",
       "242         319  Ausplot Forest Monitoring Network  k_243 -41.3671  147.6032   \n",
       "243         320                               LIPL  k_244 -42.4391  147.7789   \n",
       "244         321                               LIPL  k_245 -42.7232  147.8451   \n",
       "245         322                               LIMI  k_246 -42.7245  147.8632   \n",
       "\n",
       "     Granule Number  \n",
       "0                 2  \n",
       "1                 2  \n",
       "2                 2  \n",
       "3                 1  \n",
       "4                 1  \n",
       "..              ...  \n",
       "241               1  \n",
       "242               3  \n",
       "243               3  \n",
       "244               5  \n",
       "245               4  \n",
       "\n",
       "[246 rows x 6 columns]"
      ]
     },
     "execution_count": 3,
     "metadata": {},
     "output_type": "execute_result"
    }
   ],
   "source": [
    "# loading coordinates file\n",
    "treecoords = pd.read_csv(main_datafile_path)\n",
    "treecoords"
   ]
  },
  {
   "cell_type": "code",
   "execution_count": 5,
   "id": "4190566a",
   "metadata": {},
   "outputs": [
    {
     "data": {
      "text/html": [
       "<div>\n",
       "<style scoped>\n",
       "    .dataframe tbody tr th:only-of-type {\n",
       "        vertical-align: middle;\n",
       "    }\n",
       "\n",
       "    .dataframe tbody tr th {\n",
       "        vertical-align: top;\n",
       "    }\n",
       "\n",
       "    .dataframe thead th {\n",
       "        text-align: right;\n",
       "    }\n",
       "</style>\n",
       "<table border=\"1\" class=\"dataframe\">\n",
       "  <thead>\n",
       "    <tr style=\"text-align: right;\">\n",
       "      <th></th>\n",
       "      <th>Unnamed: 0</th>\n",
       "      <th>project</th>\n",
       "      <th>site</th>\n",
       "      <th>lat</th>\n",
       "      <th>long</th>\n",
       "      <th>Granule Number</th>\n",
       "    </tr>\n",
       "  </thead>\n",
       "  <tbody>\n",
       "    <tr>\n",
       "      <th>0</th>\n",
       "      <td>0</td>\n",
       "      <td>SouthWestForests-DON019FireInv</td>\n",
       "      <td>k_1</td>\n",
       "      <td>-34.731</td>\n",
       "      <td>116.2081</td>\n",
       "      <td>2</td>\n",
       "    </tr>\n",
       "  </tbody>\n",
       "</table>\n",
       "</div>"
      ],
      "text/plain": [
       "   Unnamed: 0                         project site     lat      long  \\\n",
       "0           0  SouthWestForests-DON019FireInv  k_1 -34.731  116.2081   \n",
       "\n",
       "   Granule Number  \n",
       "0               2  "
      ]
     },
     "execution_count": 5,
     "metadata": {},
     "output_type": "execute_result"
    }
   ],
   "source": [
    "test = treecoords.loc[0:0]\n",
    "test"
   ]
  },
  {
   "cell_type": "code",
   "execution_count": 4,
   "id": "544e421c",
   "metadata": {},
   "outputs": [],
   "source": [
    "# function to obtain bounding box from coordinate\n",
    "def latLonBoxByWandH(lat,lon,ew_width,ns_height):\n",
    "    lats, lons = [], []\n",
    "    #distance in m, az (in deg), lat (in deg), long (in deg)\n",
    "\n",
    "    res = pygc.great_circle(distance=ew_width/2, azimuth=90, latitude=lat, longitude=lon)\n",
    "    lat, lon = res['latitude'], res['longitude']\n",
    "\n",
    "    res = pygc.great_circle(distance=ns_height/2, azimuth=180, latitude=lat, longitude=lon)\n",
    "    lat, lon = res['latitude'], res['longitude']\n",
    "    lats.append(lat), lons.append(lon)\n",
    "\n",
    "    res = pygc.great_circle(distance=ew_width, azimuth=270, latitude=lat, longitude=lon)\n",
    "    lat, lon = res['latitude'], res['longitude']\n",
    "    lats.append(lat), lons.append(lon)\n",
    "\n",
    "    res = pygc.great_circle(distance=ns_height, azimuth=0, latitude=lat, longitude=lon)\n",
    "    lat, lon = res['latitude'], res['longitude']\n",
    "    lats.append(lat), lons.append(lon)\n",
    "\n",
    "    res = pygc.great_circle(distance=ew_width, azimuth=90, latitude=lat, longitude=lon)\n",
    "    lat, lon = res['latitude'], res['longitude']\n",
    "    lats.append(lat), lons.append(lon)\n",
    "    \n",
    "    return {'lats':lats,'lons':lons}"
   ]
  },
  {
   "cell_type": "code",
   "execution_count": 7,
   "id": "f5b56478",
   "metadata": {},
   "outputs": [],
   "source": [
    "# sitelist = treecoords['site']\n",
    "# lat = list(treecoords['lat'])\n",
    "# lon = list(treecoords['long'])\n",
    "# projectlist = list(treecoords[\"project\"])\n",
    "\n",
    "sitelist = test['site']\n",
    "lat = list(test['lat'])\n",
    "lon = list(test['long'])\n",
    "projectlist = list(test[\"project\"])"
   ]
  },
  {
   "cell_type": "code",
   "execution_count": 8,
   "id": "341c49ce",
   "metadata": {},
   "outputs": [
    {
     "data": {
      "text/plain": [
       "(1, 1)"
      ]
     },
     "execution_count": 8,
     "metadata": {},
     "output_type": "execute_result"
    }
   ],
   "source": [
    "#loc_lon,loc_lat\n",
    "loc_lat = np.asfarray(lat,float)\n",
    "loc_lon = np.asfarray(lon,float)\n",
    "len(loc_lat),len(loc_lon)"
   ]
  },
  {
   "cell_type": "code",
   "execution_count": 9,
   "id": "321b339c",
   "metadata": {},
   "outputs": [
    {
     "name": "stderr",
     "output_type": "stream",
     "text": [
      "100%|██████████| 1/1 [00:00<00:00, 164.56it/s]\n"
     ]
    }
   ],
   "source": [
    "\n",
    "features = []\n",
    "for lat, lon, code in tqdm(zip(loc_lat,loc_lon, sitelist), total = len(loc_lat)):\n",
    "    box = latLonBoxByWandH(lat,lon,ew_width,ns_height)\n",
    "    \n",
    "    polygon_geom = Polygon(zip(box['lons'], box['lats']))\n",
    "    features.append(Feature(geometry=polygon_geom, properties={\"STE_CODE\": code, \"STE_NAME\": code}))\n",
    "    \n",
    "feature_collection = FeatureCollection(features)\n",
    "with open('myfile.geojson', 'w') as f:\n",
    "    dump(feature_collection, f)"
   ]
  },
  {
   "cell_type": "code",
   "execution_count": 10,
   "id": "d6addd0f",
   "metadata": {
    "scrolled": false
   },
   "outputs": [
    {
     "data": {
      "image/png": "[encoded data removed]",
      "text/plain": [
       "<Figure size 640x480 with 1 Axes>"
      ]
     },
     "metadata": {},
     "output_type": "display_data"
    }
   ],
   "source": [
    "aus = gpd.read_file(\"myfile.geojson\") \n",
    "ax = aus.plot(column=\"STE_NAME\", legend=True, legend_kwds={'bbox_to_anchor':(1.7, .5), 'loc': 'right'})"
   ]
  },
  {
   "cell_type": "markdown",
   "id": "63e4dab5",
   "metadata": {},
   "source": [
    "## Access data with Web Coverage Service (WCS)\n",
    "Let's retrieve the ORNL's WCS capabilities document. The capabilities document provides operations and services offered by the WCS Server. We will first retrieve the data for the Australia bounding box and then compute summaries for the states and territories."
   ]
  },
  {
   "cell_type": "code",
   "execution_count": 11,
   "id": "84ad795b",
   "metadata": {},
   "outputs": [
    {
     "name": "stdout",
     "output_type": "stream",
     "text": [
      "ORNL DAAC WCS Server currently provides 20815 WCS layers.\n"
     ]
    }
   ],
   "source": [
    "ornl_wcs_url = \"https://webmap.ornl.gov/ogcbroker/wcs\"\n",
    "ornl_wcs = wcs.WebCoverageService(ornl_wcs_url)\n",
    "print(f'{ornl_wcs.identification.title} currently provides {len(ornl_wcs.contents)} WCS layers.')"
   ]
  },
  {
   "cell_type": "markdown",
   "id": "9d848e32",
   "metadata": {},
   "source": [
    "The ORNL DAAC WCS Server has the following three capabilities. "
   ]
  },
  {
   "cell_type": "code",
   "execution_count": 12,
   "id": "cd541186",
   "metadata": {},
   "outputs": [
    {
     "name": "stdout",
     "output_type": "stream",
     "text": [
      "1. GetCapabilities\n",
      "2. DescribeCoverage\n",
      "3. GetCoverage\n"
     ]
    }
   ],
   "source": [
    "for i, op in enumerate(ornl_wcs.operations):\n",
    "    print(f'{i+1}. {op.name}')"
   ]
  },
  {
   "cell_type": "markdown",
   "id": "5743781d",
   "metadata": {},
   "source": [
    "`DescribeCoverage` provides information about the layers' spatial extent, CRS, metadata, and formats. `GetCoverage` retrieves the actual spatial data or its subset based on spatio-temporal parameters. We will use `GetCoverage` capability to request GEDI L4B layers.\n",
    "\n",
    "Now, let's print information about the GEDI L4B mean AGBD WCS layer (`2017_1`)."
   ]
  },
  {
   "cell_type": "code",
   "execution_count": 13,
   "id": "f870160a",
   "metadata": {},
   "outputs": [
    {
     "name": "stdout",
     "output_type": "stream",
     "text": [
      "Layer title : GEDI L4B Gridded Mean Aboveground Biomass Density (AGBD), Version 2, Mission Weeks 19-138\n",
      "Supported CRS : [urn:ogc:def:crs:EPSG::6933, urn:ogc:def:crs:EPSG::4326, urn:ogc:def:crs:EPSG::3785, urn:ogc:def:crs:EPSG::54004, urn:ogc:def:crs:EPSG::54008, urn:ogc:def:crs:EPSG::54009, urn:ogc:def:crs:EPSG::900913, urn:ogc:def:crs:EPSG::6933]\n",
      "Bounding Box : [{'nativeSrs': 'EPSG:4326', 'bbox': (-179.999999998328, -85.0445664397416, 179.999999998328, 85.0445664397416)}, {'nativeSrs': 'epsg:6933', 'bbox': (-17367530.445, -7314540.831, 17367530.445, 7314540.831)}]\n",
      "Formats : ['AAIGrid_FLOAT32', 'GeoTIFF_FLOAT32', 'HFA_FLOAT32', 'netCDF_FLOAT32', 'NITF_FLOAT32']\n",
      "Grid upper limits : ['34703', '14615']\n"
     ]
    }
   ],
   "source": [
    "layer_wcs = ornl_wcs['2017_1']\n",
    "wcs_meta = f'''Layer title : {layer_wcs.title}\n",
    "Supported CRS : {layer_wcs.supportedCRS}\n",
    "Bounding Box : {layer_wcs.boundingboxes}\n",
    "Formats : {layer_wcs.supportedFormats}\n",
    "Grid upper limits : {layer_wcs.grid.highlimits}'''\n",
    "print(wcs_meta)"
   ]
  },
  {
   "cell_type": "markdown",
   "id": "96aae604",
   "metadata": {},
   "source": [
    "The GEDI L4B grids natively use a [global 1km EASEGrid 2.0 (epsg:6933)](https://nsidc.org/ease/ease-grid-projection-gt). Its grid size is `1000.895023349667440 meters`. Using the bounding box and horizontal and vertical grid sizes, let's compute the bounding box of Australia that aligns with the 1km EASEGRID."
   ]
  },
  {
   "cell_type": "code",
   "execution_count": 14,
   "id": "8045d6ff",
   "metadata": {},
   "outputs": [],
   "source": [
    "# GEDI bbox in EPSG:6933 (EASEGrid2.0)\n",
    "b2 = layer_wcs.boundingboxes[1]['bbox']\n",
    "# GEDI number of grids across x and y\n",
    "h = int(layer_wcs.grid.highlimits[0]) + 1\n",
    "v = int(layer_wcs.grid.highlimits[1]) + 1\n",
    "# GEDI grid size\n",
    "res_xy = 1000.895023349667440\n",
    "# create cell coordinates\n",
    "x = np.linspace(b2[0]+res_xy, b2[2], num=h)\n",
    "y = np.linspace(b2[3]-res_xy, b2[1], num=v)\n",
    "# convert australia polygon geopandas to EASEGRID 2\n",
    "aus_ease = aus.to_crs('EPSG:6933')\n",
    "# compute min, max bounds\n",
    "xmin, ymin, xmax, ymax = aus_ease.total_bounds \n",
    "# find the min, max bounds that aligns with\n",
    "# EASEGRID cell coordinates\n",
    "xmin = x[np.abs(x - xmin).argmin()]\n",
    "ymin = y[np.abs(y - ymin).argmin()]\n",
    "xmax = x[(np.abs(x - xmin).argmin())+2]\n",
    "ymax = y[(np.abs(y - ymin).argmin())-2]\n"
   ]
  },
  {
   "cell_type": "code",
   "execution_count": 15,
   "id": "9c19f639",
   "metadata": {},
   "outputs": [
    {
     "name": "stdout",
     "output_type": "stream",
     "text": [
      "11211025.156434134 -4171730.4575270843 11213026.946480814 -4169728.667480286\n"
     ]
    }
   ],
   "source": [
    "print(xmin, ymin, xmax, ymax)"
   ]
  },
  {
   "cell_type": "markdown",
   "id": "ae197b0b",
   "metadata": {},
   "source": [
    "The \"quality flag\" layer (identifier=`2017_4`) provides information as to if the land grid meets the GEDI L1A mission  requirement (percent standard error <20% or standard error < 20 Mg ha-1), indicated by a grid value of 2. For this tutorial, we will compute summaries of the AGBD estimates where GEDI L1 mission requirements are met.\n",
    "\n",
    "We will use WCS's `getCoverage` capability to request two layers (mean AGBD and quality flag) in a GeoTIFF format for the Australia bounds. We will also ensure the CRS parameter is set to the native `EPSG:6933`."
   ]
  },
  {
   "cell_type": "code",
   "execution_count": 16,
   "id": "007e9c34",
   "metadata": {},
   "outputs": [
    {
     "name": "stdout",
     "output_type": "stream",
     "text": [
      "writing 2017_1.tif\n",
      "writing 2017_4.tif\n"
     ]
    }
   ],
   "source": [
    "# mean AGBD and quality flag layers\n",
    "layers = ['2017_1', '2017_4']\n",
    "\n",
    "# loop over layers\n",
    "for lyr in layers:\n",
    "    # WCS request\n",
    "    cov = ornl_wcs.getCoverage(identifier=lyr,\n",
    "                               bbox=(xmin, ymin, xmax, ymax),\n",
    "                               crs='EPSG:6933',\n",
    "                               format='GeoTIFF_FLOAT32',\n",
    "                               resx=res_xy, resy=res_xy)\n",
    "    # save the results to GeoTIFFs\n",
    "    otif = f\"{lyr}.tif\"\n",
    "    print(f\"writing {otif}\")\n",
    "    with open(otif, 'wb') as f:\n",
    "        f.write(cov.read())"
   ]
  },
  {
   "cell_type": "markdown",
   "id": "0604c31a",
   "metadata": {},
   "source": [
    "Let's read the band data and transformation and nodata information of the above GeoTIFF. We will also plot the images."
   ]
  },
  {
   "cell_type": "code",
   "execution_count": 7,
   "id": "a1bb0929",
   "metadata": {},
   "outputs": [
    {
     "data": {
      "image/png": "[encoded data removed]",
      "text/plain": [
       "<Figure size 700x700 with 1 Axes>"
      ]
     },
     "metadata": {},
     "output_type": "display_data"
    }
   ],
   "source": [
    "# read mean AGBD layer\n",
    "with rio.open('./clipped_gedi/k_2_2017_1.tif', 'r') as src:\n",
    "    affine = src.transform\n",
    "    nodata = src.nodata\n",
    "    l4a_agbd = src.read(1)\n",
    "\n",
    "# read quality flag layer\n",
    "# with rio.open('2017_4.tif', 'r') as src:\n",
    "#     nodata2 = src.nodata\n",
    "#     l4a_qa = src.read(1)\n",
    "\n",
    "# plot images\n",
    "fig, (ax_agbd) = plt.subplots(1, figsize=(7, 7))\n",
    "show(l4a_agbd, ax=ax_agbd, title='Mean AGBD')\n",
    "# show(l4a_qa, ax=ax_qa, title='Quality Flag')\n",
    "plt.show()"
   ]
  },
  {
   "cell_type": "code",
   "execution_count": 8,
   "id": "e0bdec0c",
   "metadata": {},
   "outputs": [
    {
     "data": {
      "text/plain": [
       "array([[348.3905 , 343.98135],\n",
       "       [158.06517, 116.32609]], dtype=float32)"
      ]
     },
     "execution_count": 8,
     "metadata": {},
     "output_type": "execute_result"
    }
   ],
   "source": [
    "l4a_agbd"
   ]
  },
  {
   "cell_type": "markdown",
   "id": "0f05c61c",
   "metadata": {},
   "source": [
    "We have AGBD values saved in the array `l4a_agbd` and quality flags saved in the array `l4a_qa`. We can use these to compute basic AGBD statistics for the states/territories of Australia."
   ]
  },
  {
   "cell_type": "code",
   "execution_count": 114,
   "id": "15a9a8bd",
   "metadata": {},
   "outputs": [
    {
     "data": {
      "text/html": [
       "<div>\n",
       "<style scoped>\n",
       "    .dataframe tbody tr th:only-of-type {\n",
       "        vertical-align: middle;\n",
       "    }\n",
       "\n",
       "    .dataframe tbody tr th {\n",
       "        vertical-align: top;\n",
       "    }\n",
       "\n",
       "    .dataframe thead th {\n",
       "        text-align: right;\n",
       "    }\n",
       "</style>\n",
       "<table border=\"1\" class=\"dataframe\">\n",
       "  <thead>\n",
       "    <tr style=\"text-align: right;\">\n",
       "      <th></th>\n",
       "      <th>STE_NAME</th>\n",
       "      <th>area_ha</th>\n",
       "      <th>percent_good_grids</th>\n",
       "      <th>agb_total_Mg</th>\n",
       "      <th>agbd_mean</th>\n",
       "    </tr>\n",
       "  </thead>\n",
       "  <tbody>\n",
       "    <tr>\n",
       "      <th>0</th>\n",
       "      <td>k_4</td>\n",
       "      <td>400.042397</td>\n",
       "      <td>25.0</td>\n",
       "      <td>4727.117636</td>\n",
       "      <td>11.816542</td>\n",
       "    </tr>\n",
       "  </tbody>\n",
       "</table>\n",
       "</div>"
      ],
      "text/plain": [
       "  STE_NAME     area_ha  percent_good_grids  agb_total_Mg  agbd_mean\n",
       "0      k_4  400.042397                25.0   4727.117636  11.816542"
      ]
     },
     "execution_count": 114,
     "metadata": {},
     "output_type": "execute_result"
    }
   ],
   "source": [
    "# assign nodata to grids with QA value != 2 \n",
    "l4a_agbd[l4a_qa!=2] = nodata\n",
    "# assign nodata to grids with QA value != 1\n",
    "l4a_qa[l4a_qa!=1] = nodata2\n",
    "\n",
    "# compute grid size in hectares\n",
    "grid_ha = (res_xy * res_xy) / 10000\n",
    "# create a new column to store state area in hectare\n",
    "aus_ease['area_ha'] = aus_ease['geometry'].area / 10000\n",
    "\n",
    "# loop through each states\n",
    "for j in aus_ease.index:\n",
    "    # compute AGBD statistics for each state\n",
    "    stats1 = zonal_stats(vectors=aus_ease.iloc[j].geometry, raster=l4a_agbd, affine=affine, nodata=nodata,\n",
    "                                 stats=['sum', 'mean', 'count'])\n",
    "    aus_ease.at[j, 'agb_total'] = stats1[0]['sum']\n",
    "    aus_ease.at[j, 'count_good'] = stats1[0]['count']\n",
    "    \n",
    "    # compute total land count (l4a_qa == [1,2])\n",
    "    stats2 = zonal_stats(vectors=aus_ease.iloc[j].geometry, raster=l4a_qa, affine=affine, nodata=nodata2,\n",
    "                                 stats=['count'])\n",
    "    aus_ease.at[j, 'count_land'] = stats1[0]['count'] + stats2[0]['count']\n",
    "\n",
    "# percent grids meeting L1 requirement\n",
    "aus_ease['percent_good_grids']= (aus_ease['count_good'] / aus_ease['count_land']) *100\n",
    "# total AGB in Mg\n",
    "aus_ease['agb_total_Mg']= aus_ease['agb_total'] * aus_ease['count_good'] * grid_ha\n",
    "# Mean AGB for states\n",
    "aus_ease['agbd_mean']= aus_ease['agb_total_Mg'] / aus_ease['area_ha']\n",
    "# printing the statistics\n",
    "aus_ease[['STE_NAME', 'area_ha', 'percent_good_grids', 'agb_total_Mg', 'agbd_mean']]"
   ]
  },
  {
   "cell_type": "markdown",
   "metadata": {
    "scrolled": true
   },
   "source": [
    "In the above table, `area_ha` is the area of the state/territory in hectares; `percent_good_grids` is the percentage of the GEDI L4B grids that meets GEDI L1 mission requirement (percent standard error <20% or standard error < 20 Mg ha-1); `agb_total_Mg` is the total aboveground biomass in Mg for all grids that meets L1 mission requirement; and `agbd_mean` is mean AGBD for the state/territory in Mg ha-1."
   ]
  },
  {
   "cell_type": "markdown",
   "id": "ccab897a",
   "metadata": {},
   "source": [
    "## Getting GEDI L4B data into a GIS\n",
    "Some of us may want to bring the GEDI layers into desktop Geographic Information System (GIS) clients for further analysis. Most of the modern GIS software has capabilities to support OGC web services. \n",
    "- [ESRI's ArcGIS software](https://www.esri.com/en-us/arcgis/products/arcgis-pro/overview) suite also supports these capabilities - refer to [this documentation](https://pro.arcgis.com/en/pro-app/latest/help/data/services/ogc-services.htm) on how to load OGC web services into ESRI software. \n",
    "- [QGIS](https://qgis.org) is a freely available open-source desktop GIS software and supports OGC capabilities. Please refer to [this documentation](https://docs.qgis.org/3.22/en/docs/user_manual/working_with_ogc/ogc_client_support.html) for further help. \n",
    "\n",
    "The OGC [WMS/WCS capabilities](https://webmap.ornl.gov/ogc/dataset.jsp?ds_id=1952) are also available for the [GEDI L3 dataset](https://doi.org/10.3334/ORNLDAAC/1952), which provides gridded land surface and canopy metrics. \n",
    "\n"
   ]
  }
 ],
 "metadata": {
  "kernelspec": {
   "display_name": "Python 3",
   "language": "python",
   "name": "python3"
  },
  "language_info": {
   "codemirror_mode": {
    "name": "ipython",
    "version": 3
   },
   "file_extension": ".py",
   "mimetype": "text/x-python",
   "name": "python",
   "nbconvert_exporter": "python",
   "pygments_lexer": "ipython3",
   "version": "3.11.6"
  }
 },
 "nbformat": 4,
 "nbformat_minor": 5
}
