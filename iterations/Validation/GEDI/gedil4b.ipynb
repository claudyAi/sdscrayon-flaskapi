{
 "cells": [
  {
   "cell_type": "markdown",
   "metadata": {},
   "source": [
    "# Access GEDI L4B Dataset with OGC Web Services\n",
    "\n",
    "This tutorial will demonstrate how to visualize and access [Global Ecosystem Dynamics Investigation (GEDI) L4B Gridded Aboveground Biomass Density (AGBD) dataset](https://doi.org/10.3334/ORNLDAAC/2017) using the [Open Geospatial Consortium (OGC)](http://www.opengeospatial.org/) web services. The OGC web services offer a simple HTTP interface for requesting access, visualization, and processing of geospatial datasets. GEDI L4B dataset is available in ORNL DAAC's [Spatial Data Access Tools (SDAT)](https://webmap.ornl.gov/ogc/dataset.jsp?ds_id=2017), which offers OGC-based web services to visualize and download spatial data in various user-selected spatial/temporal extents and formats. For GEDI L4B, which is a gridded dataset, two different requests are currently supported: (1) [web map service (WMS)](https://www.ogc.org/standards/wms/introduction) to request map images for visualization of geospatial data from a remote server, (2) [web coverage service (WCS)](https://www.ogc.org/standards/wcs) to download geospatial data from a remote server.\n",
    "\n",
    "For this tutorial, we will first visualize the GEDI L4B dataset over Australia using the OGC WMS service and then access the dataset using the OGC WCS service to compute summaries of AGBD for six states and two territories of Australia.\n",
    "\n",
    "This tutorial requires the following Python modules installed in your system: `folium`, `owslib`, `pandas`, `geopandas`, `requests`, `rasterio`, `rasterstats`, `matplotlib`, . Requirements are also in [requirements.txt](requirements.txt). To install the necessary Python modules, you can copy the requirements.txt from this repository and run:\n",
    "```bash\n",
    "pip install -r requirements.txt\n",
    "```"
   ]
  },
  {
   "cell_type": "code",
   "execution_count": 1,
   "metadata": {},
   "outputs": [],
   "source": [
    "# import python modules\n",
    "%matplotlib inline\n",
    "%config IPCompleter.greedy=True\n",
    "import folium\n",
    "import owslib.wcs as wcs\n",
    "import owslib.wms as wms\n",
    "import pandas as pd\n",
    "import requests as re\n",
    "import matplotlib.pyplot as plt\n",
    "from folium.plugins import FloatImage\n",
    "from rasterstats import zonal_stats\n",
    "from rasterio.plot import show\n",
    "import datetime as dt \n",
    "from shapely.geometry import Polygon\n",
    "import pygc\n",
    "from tqdm import tqdm\n",
    "import rasterio as rio\n",
    "import numpy as np\n",
    "from geojson import Feature, FeatureCollection, dump\n",
    "import os\n",
    "import geopandas as gpd"
   ]
  },
  {
   "cell_type": "markdown",
   "metadata": {},
   "source": [
    "Let's read and plot the GeoJSON file with the states and territories of Australia."
   ]
  },
  {
   "cell_type": "code",
   "execution_count": 2,
   "id": "188532b7",
   "metadata": {},
   "outputs": [],
   "source": [
    "# variables for data search\n",
    "\n",
    "# coordinates file path\n",
    "main_datafile_path = \"./csvfiles/estingAustralia.csv\"\n",
    "\n",
    "# lengths in m\n",
    "ew_width = 2000\n",
    "ns_height = 2000\n",
    "size = int(ew_width/1000)\n",
    "\n",
    "start_date = dt.datetime(2022, 1, 1) # specify your own start date\n",
    "end_date = dt.datetime(2022, 6, 1)  # specify your end start date"
   ]
  },
  {
   "cell_type": "code",
   "execution_count": 3,
   "id": "10706938",
   "metadata": {},
   "outputs": [
    {
     "data": {
      "text/html": [
       "<div>\n",
       "<style scoped>\n",
       "    .dataframe tbody tr th:only-of-type {\n",
       "        vertical-align: middle;\n",
       "    }\n",
       "\n",
       "    .dataframe tbody tr th {\n",
       "        vertical-align: top;\n",
       "    }\n",
       "\n",
       "    .dataframe thead th {\n",
       "        text-align: right;\n",
       "    }\n",
       "</style>\n",
       "<table border=\"1\" class=\"dataframe\">\n",
       "  <thead>\n",
       "    <tr style=\"text-align: right;\">\n",
       "      <th></th>\n",
       "      <th>Unnamed: 0</th>\n",
       "      <th>project</th>\n",
       "      <th>site</th>\n",
       "      <th>lat</th>\n",
       "      <th>long</th>\n",
       "      <th>Granule Number</th>\n",
       "    </tr>\n",
       "  </thead>\n",
       "  <tbody>\n",
       "    <tr>\n",
       "      <th>0</th>\n",
       "      <td>0</td>\n",
       "      <td>SouthWestForests-DON019FireInv</td>\n",
       "      <td>k_1</td>\n",
       "      <td>-34.7310</td>\n",
       "      <td>116.2081</td>\n",
       "      <td>2</td>\n",
       "    </tr>\n",
       "    <tr>\n",
       "      <th>1</th>\n",
       "      <td>1</td>\n",
       "      <td>SouthWestForests-DON019FireInv</td>\n",
       "      <td>k_2</td>\n",
       "      <td>-34.7265</td>\n",
       "      <td>116.2081</td>\n",
       "      <td>2</td>\n",
       "    </tr>\n",
       "    <tr>\n",
       "      <th>2</th>\n",
       "      <td>2</td>\n",
       "      <td>SouthWestForests-DON019FireInv</td>\n",
       "      <td>k_3</td>\n",
       "      <td>-34.6949</td>\n",
       "      <td>116.2085</td>\n",
       "      <td>2</td>\n",
       "    </tr>\n",
       "    <tr>\n",
       "      <th>3</th>\n",
       "      <td>3</td>\n",
       "      <td>SouthWestForests-DON019FireInv</td>\n",
       "      <td>k_4</td>\n",
       "      <td>-34.7265</td>\n",
       "      <td>116.2136</td>\n",
       "      <td>1</td>\n",
       "    </tr>\n",
       "    <tr>\n",
       "      <th>4</th>\n",
       "      <td>4</td>\n",
       "      <td>SouthWestForests-DON019FireInv</td>\n",
       "      <td>k_5</td>\n",
       "      <td>-34.7221</td>\n",
       "      <td>116.2136</td>\n",
       "      <td>1</td>\n",
       "    </tr>\n",
       "    <tr>\n",
       "      <th>...</th>\n",
       "      <td>...</td>\n",
       "      <td>...</td>\n",
       "      <td>...</td>\n",
       "      <td>...</td>\n",
       "      <td>...</td>\n",
       "      <td>...</td>\n",
       "    </tr>\n",
       "    <tr>\n",
       "      <th>241</th>\n",
       "      <td>318</td>\n",
       "      <td>LIRE</td>\n",
       "      <td>k_242</td>\n",
       "      <td>-41.3530</td>\n",
       "      <td>147.5222</td>\n",
       "      <td>1</td>\n",
       "    </tr>\n",
       "    <tr>\n",
       "      <th>242</th>\n",
       "      <td>319</td>\n",
       "      <td>Ausplot Forest Monitoring Network</td>\n",
       "      <td>k_243</td>\n",
       "      <td>-41.3671</td>\n",
       "      <td>147.6032</td>\n",
       "      <td>3</td>\n",
       "    </tr>\n",
       "    <tr>\n",
       "      <th>243</th>\n",
       "      <td>320</td>\n",
       "      <td>LIPL</td>\n",
       "      <td>k_244</td>\n",
       "      <td>-42.4391</td>\n",
       "      <td>147.7789</td>\n",
       "      <td>3</td>\n",
       "    </tr>\n",
       "    <tr>\n",
       "      <th>244</th>\n",
       "      <td>321</td>\n",
       "      <td>LIPL</td>\n",
       "      <td>k_245</td>\n",
       "      <td>-42.7232</td>\n",
       "      <td>147.8451</td>\n",
       "      <td>5</td>\n",
       "    </tr>\n",
       "    <tr>\n",
       "      <th>245</th>\n",
       "      <td>322</td>\n",
       "      <td>LIMI</td>\n",
       "      <td>k_246</td>\n",
       "      <td>-42.7245</td>\n",
       "      <td>147.8632</td>\n",
       "      <td>4</td>\n",
       "    </tr>\n",
       "  </tbody>\n",
       "</table>\n",
       "<p>246 rows × 6 columns</p>\n",
       "</div>"
      ],
      "text/plain": [
       "     Unnamed: 0                            project   site      lat      long  \\\n",
       "0             0     SouthWestForests-DON019FireInv    k_1 -34.7310  116.2081   \n",
       "1             1     SouthWestForests-DON019FireInv    k_2 -34.7265  116.2081   \n",
       "2             2     SouthWestForests-DON019FireInv    k_3 -34.6949  116.2085   \n",
       "3             3     SouthWestForests-DON019FireInv    k_4 -34.7265  116.2136   \n",
       "4             4     SouthWestForests-DON019FireInv    k_5 -34.7221  116.2136   \n",
       "..          ...                                ...    ...      ...       ...   \n",
       "241         318                               LIRE  k_242 -41.3530  147.5222   \n",
       "242         319  Ausplot Forest Monitoring Network  k_243 -41.3671  147.6032   \n",
       "243         320                               LIPL  k_244 -42.4391  147.7789   \n",
       "244         321                               LIPL  k_245 -42.7232  147.8451   \n",
       "245         322                               LIMI  k_246 -42.7245  147.8632   \n",
       "\n",
       "     Granule Number  \n",
       "0                 2  \n",
       "1                 2  \n",
       "2                 2  \n",
       "3                 1  \n",
       "4                 1  \n",
       "..              ...  \n",
       "241               1  \n",
       "242               3  \n",
       "243               3  \n",
       "244               5  \n",
       "245               4  \n",
       "\n",
       "[246 rows x 6 columns]"
      ]
     },
     "execution_count": 3,
     "metadata": {},
     "output_type": "execute_result"
    }
   ],
   "source": [
    "# loading coordinates file\n",
    "treecoords = pd.read_csv(main_datafile_path)\n",
    "treecoords"
   ]
  },
  {
   "cell_type": "code",
   "execution_count": 4,
   "id": "8d1a4a63",
   "metadata": {},
   "outputs": [],
   "source": [
    "# function to obtain bounding box from coordinate\n",
    "def latLonBoxByWandH(lat,lon,ew_width,ns_height):\n",
    "    lats, lons = [], []\n",
    "    #distance in m, az (in deg), lat (in deg), long (in deg)\n",
    "\n",
    "    res = pygc.great_circle(distance=ew_width/2, azimuth=90, latitude=lat, longitude=lon)\n",
    "    lat, lon = res['latitude'], res['longitude']\n",
    "\n",
    "    res = pygc.great_circle(distance=ns_height/2, azimuth=180, latitude=lat, longitude=lon)\n",
    "    lat, lon = res['latitude'], res['longitude']\n",
    "    lats.append(lat), lons.append(lon)\n",
    "\n",
    "    res = pygc.great_circle(distance=ew_width, azimuth=270, latitude=lat, longitude=lon)\n",
    "    lat, lon = res['latitude'], res['longitude']\n",
    "    lats.append(lat), lons.append(lon)\n",
    "\n",
    "    res = pygc.great_circle(distance=ns_height, azimuth=0, latitude=lat, longitude=lon)\n",
    "    lat, lon = res['latitude'], res['longitude']\n",
    "    lats.append(lat), lons.append(lon)\n",
    "\n",
    "    res = pygc.great_circle(distance=ew_width, azimuth=90, latitude=lat, longitude=lon)\n",
    "    lat, lon = res['latitude'], res['longitude']\n",
    "    lats.append(lat), lons.append(lon)\n",
    "    \n",
    "    return {'lats':lats,'lons':lons}"
   ]
  },
  {
   "cell_type": "code",
   "execution_count": 5,
   "id": "5081a386",
   "metadata": {},
   "outputs": [],
   "source": [
    "sitelist = treecoords['site']\n",
    "lat = list(treecoords['lat'])\n",
    "lon = list(treecoords['long'])\n",
    "projectlist = list(treecoords[\"project\"])\n",
    "# sitelist = test['site']\n",
    "# lat = list(test['lat'])\n",
    "# lon = list(test['long'])\n",
    "# projectlist = list(test[\"project\"])"
   ]
  },
  {
   "cell_type": "code",
   "execution_count": 6,
   "id": "a18782b8",
   "metadata": {},
   "outputs": [
    {
     "data": {
      "text/plain": [
       "(246, 246)"
      ]
     },
     "execution_count": 6,
     "metadata": {},
     "output_type": "execute_result"
    }
   ],
   "source": [
    "#loc_lon,loc_lat\n",
    "loc_lat = np.asfarray(lat,float)\n",
    "loc_lon = np.asfarray(lon,float)\n",
    "len(loc_lat),len(loc_lon)"
   ]
  },
  {
   "cell_type": "code",
   "execution_count": 7,
   "id": "54bf4b91",
   "metadata": {},
   "outputs": [
    {
     "name": "stderr",
     "output_type": "stream",
     "text": [
      "  0%|          | 0/246 [00:00<?, ?it/s]"
     ]
    },
    {
     "name": "stderr",
     "output_type": "stream",
     "text": [
      "  0%|          | 1/246 [23:28<95:49:56, 1408.15s/it]"
     ]
    },
    {
     "name": "stdout",
     "output_type": "stream",
     "text": [
      "writing ./clipped_gedi/k_1_2017_1.tif\n"
     ]
    },
    {
     "name": "stderr",
     "output_type": "stream",
     "text": [
      "  1%|          | 2/246 [23:57<40:27:57, 597.04s/it] "
     ]
    },
    {
     "name": "stdout",
     "output_type": "stream",
     "text": [
      "writing ./clipped_gedi/k_2_2017_1.tif\n"
     ]
    },
    {
     "name": "stderr",
     "output_type": "stream",
     "text": [
      "  1%|          | 3/246 [24:12<22:22:17, 331.43s/it]"
     ]
    },
    {
     "name": "stdout",
     "output_type": "stream",
     "text": [
      "writing ./clipped_gedi/k_3_2017_1.tif\n"
     ]
    },
    {
     "name": "stderr",
     "output_type": "stream",
     "text": [
      "  2%|▏         | 4/246 [24:28<13:53:18, 206.61s/it]"
     ]
    },
    {
     "name": "stdout",
     "output_type": "stream",
     "text": [
      "writing ./clipped_gedi/k_4_2017_1.tif\n"
     ]
    },
    {
     "name": "stderr",
     "output_type": "stream",
     "text": [
      "  2%|▏         | 5/246 [25:13<9:56:14, 148.44s/it] "
     ]
    },
    {
     "name": "stdout",
     "output_type": "stream",
     "text": [
      "writing ./clipped_gedi/k_5_2017_1.tif\n"
     ]
    },
    {
     "name": "stderr",
     "output_type": "stream",
     "text": [
      "  2%|▏         | 6/246 [25:29<6:53:30, 103.38s/it]"
     ]
    },
    {
     "name": "stdout",
     "output_type": "stream",
     "text": [
      "writing ./clipped_gedi/k_6_2017_1.tif\n"
     ]
    },
    {
     "name": "stderr",
     "output_type": "stream",
     "text": [
      "  3%|▎         | 7/246 [41:52<25:57:40, 391.05s/it]"
     ]
    },
    {
     "name": "stdout",
     "output_type": "stream",
     "text": [
      "writing ./clipped_gedi/k_7_2017_1.tif\n"
     ]
    },
    {
     "name": "stderr",
     "output_type": "stream",
     "text": [
      "  3%|▎         | 8/246 [42:08<17:57:36, 271.67s/it]"
     ]
    },
    {
     "name": "stdout",
     "output_type": "stream",
     "text": [
      "writing ./clipped_gedi/k_8_2017_1.tif\n"
     ]
    },
    {
     "name": "stderr",
     "output_type": "stream",
     "text": [
      "  4%|▎         | 9/246 [42:24<12:37:11, 191.69s/it]"
     ]
    },
    {
     "name": "stdout",
     "output_type": "stream",
     "text": [
      "writing ./clipped_gedi/k_9_2017_1.tif\n"
     ]
    },
    {
     "name": "stderr",
     "output_type": "stream",
     "text": [
      "  4%|▍         | 10/246 [1:00:42<30:54:23, 471.46s/it]"
     ]
    },
    {
     "name": "stdout",
     "output_type": "stream",
     "text": [
      "writing ./clipped_gedi/k_10_2017_1.tif\n"
     ]
    },
    {
     "name": "stderr",
     "output_type": "stream",
     "text": [
      "  4%|▍         | 11/246 [1:01:31<22:20:45, 342.32s/it]"
     ]
    },
    {
     "name": "stdout",
     "output_type": "stream",
     "text": [
      "writing ./clipped_gedi/k_11_2017_1.tif\n"
     ]
    },
    {
     "name": "stderr",
     "output_type": "stream",
     "text": [
      "  5%|▍         | 12/246 [1:20:51<38:24:36, 590.93s/it]"
     ]
    },
    {
     "name": "stdout",
     "output_type": "stream",
     "text": [
      "writing ./clipped_gedi/k_12_2017_1.tif\n"
     ]
    },
    {
     "name": "stderr",
     "output_type": "stream",
     "text": [
      "  5%|▌         | 13/246 [1:41:16<50:40:33, 782.98s/it]"
     ]
    },
    {
     "name": "stdout",
     "output_type": "stream",
     "text": [
      "writing ./clipped_gedi/k_13_2017_1.tif\n"
     ]
    },
    {
     "name": "stderr",
     "output_type": "stream",
     "text": [
      "  6%|▌         | 14/246 [2:00:36<57:48:38, 897.06s/it]"
     ]
    },
    {
     "name": "stdout",
     "output_type": "stream",
     "text": [
      "writing ./clipped_gedi/k_14_2017_1.tif\n"
     ]
    },
    {
     "name": "stderr",
     "output_type": "stream",
     "text": [
      "  6%|▌         | 15/246 [2:00:52<40:30:15, 631.24s/it]"
     ]
    },
    {
     "name": "stdout",
     "output_type": "stream",
     "text": [
      "writing ./clipped_gedi/k_15_2017_1.tif\n"
     ]
    },
    {
     "name": "stderr",
     "output_type": "stream",
     "text": [
      "  7%|▋         | 16/246 [2:18:13<48:13:16, 754.77s/it]"
     ]
    },
    {
     "name": "stdout",
     "output_type": "stream",
     "text": [
      "writing ./clipped_gedi/k_16_2017_1.tif\n"
     ]
    },
    {
     "name": "stderr",
     "output_type": "stream",
     "text": [
      "  7%|▋         | 17/246 [2:35:04<52:54:10, 831.66s/it]"
     ]
    },
    {
     "name": "stdout",
     "output_type": "stream",
     "text": [
      "writing ./clipped_gedi/k_17_2017_1.tif\n"
     ]
    },
    {
     "name": "stderr",
     "output_type": "stream",
     "text": [
      "  7%|▋         | 18/246 [2:52:11<56:23:36, 890.42s/it]"
     ]
    },
    {
     "name": "stdout",
     "output_type": "stream",
     "text": [
      "writing ./clipped_gedi/k_18_2017_1.tif\n"
     ]
    },
    {
     "name": "stderr",
     "output_type": "stream",
     "text": [
      "  7%|▋         | 18/246 [3:07:12<39:31:21, 624.04s/it]\n"
     ]
    },
    {
     "ename": "KeyboardInterrupt",
     "evalue": "",
     "output_type": "error",
     "traceback": [
      "\u001b[1;31m---------------------------------------------------------------------------\u001b[0m",
      "\u001b[1;31mKeyboardInterrupt\u001b[0m                         Traceback (most recent call last)",
      "\u001b[1;32mc:\\Users\\earth\\Downloads\\Workspace\\SDS\\DAI_SatSensing_Workshop\\GEDI\\gedil4b.ipynb Cell 9\u001b[0m line \u001b[0;36m1\n\u001b[0;32m     <a href='vscode-notebook-cell:/c%3A/Users/earth/Downloads/Workspace/SDS/DAI_SatSensing_Workshop/GEDI/gedil4b.ipynb#X11sZmlsZQ%3D%3D?line=11'>12</a>\u001b[0m aus \u001b[39m=\u001b[39m gpd\u001b[39m.\u001b[39mread_file(\u001b[39m\"\u001b[39m\u001b[39mmyfile.geojson\u001b[39m\u001b[39m\"\u001b[39m) \n\u001b[0;32m     <a href='vscode-notebook-cell:/c%3A/Users/earth/Downloads/Workspace/SDS/DAI_SatSensing_Workshop/GEDI/gedil4b.ipynb#X11sZmlsZQ%3D%3D?line=14'>15</a>\u001b[0m ornl_wms_url \u001b[39m=\u001b[39m \u001b[39m\"\u001b[39m\u001b[39mhttps://webmap.ornl.gov/ogcbroker/wms\u001b[39m\u001b[39m\"\u001b[39m\n\u001b[1;32m---> <a href='vscode-notebook-cell:/c%3A/Users/earth/Downloads/Workspace/SDS/DAI_SatSensing_Workshop/GEDI/gedil4b.ipynb#X11sZmlsZQ%3D%3D?line=15'>16</a>\u001b[0m ornl_wms \u001b[39m=\u001b[39m wms\u001b[39m.\u001b[39;49mWebMapService(ornl_wms_url)\n\u001b[0;32m     <a href='vscode-notebook-cell:/c%3A/Users/earth/Downloads/Workspace/SDS/DAI_SatSensing_Workshop/GEDI/gedil4b.ipynb#X11sZmlsZQ%3D%3D?line=16'>17</a>\u001b[0m ornl_wcs_url \u001b[39m=\u001b[39m \u001b[39m\"\u001b[39m\u001b[39mhttps://webmap.ornl.gov/ogcbroker/wcs\u001b[39m\u001b[39m\"\u001b[39m\n\u001b[0;32m     <a href='vscode-notebook-cell:/c%3A/Users/earth/Downloads/Workspace/SDS/DAI_SatSensing_Workshop/GEDI/gedil4b.ipynb#X11sZmlsZQ%3D%3D?line=17'>18</a>\u001b[0m ornl_wcs \u001b[39m=\u001b[39m wcs\u001b[39m.\u001b[39mWebCoverageService(ornl_wcs_url)\n",
      "File \u001b[1;32mc:\\Users\\earth\\AppData\\Local\\Programs\\Python\\Python311\\Lib\\site-packages\\owslib\\wms.py:50\u001b[0m, in \u001b[0;36mWebMapService\u001b[1;34m(url, version, xml, username, password, parse_remote_metadata, timeout, headers, auth)\u001b[0m\n\u001b[0;32m     47\u001b[0m clean_url \u001b[39m=\u001b[39m clean_ows_url(url)\n\u001b[0;32m     49\u001b[0m \u001b[39mif\u001b[39;00m version \u001b[39min\u001b[39;00m [\u001b[39m'\u001b[39m\u001b[39m1.1.1\u001b[39m\u001b[39m'\u001b[39m]:\n\u001b[1;32m---> 50\u001b[0m     \u001b[39mreturn\u001b[39;00m wms111\u001b[39m.\u001b[39;49mWebMapService_1_1_1(\n\u001b[0;32m     51\u001b[0m         clean_url, version\u001b[39m=\u001b[39;49mversion, xml\u001b[39m=\u001b[39;49mxml, parse_remote_metadata\u001b[39m=\u001b[39;49mparse_remote_metadata,\n\u001b[0;32m     52\u001b[0m         timeout\u001b[39m=\u001b[39;49mtimeout, headers\u001b[39m=\u001b[39;49mheaders, auth\u001b[39m=\u001b[39;49mauth)\n\u001b[0;32m     53\u001b[0m \u001b[39melif\u001b[39;00m version \u001b[39min\u001b[39;00m [\u001b[39m'\u001b[39m\u001b[39m1.3.0\u001b[39m\u001b[39m'\u001b[39m]:\n\u001b[0;32m     54\u001b[0m     \u001b[39mreturn\u001b[39;00m wms130\u001b[39m.\u001b[39mWebMapService_1_3_0(\n\u001b[0;32m     55\u001b[0m         clean_url, version\u001b[39m=\u001b[39mversion, xml\u001b[39m=\u001b[39mxml, parse_remote_metadata\u001b[39m=\u001b[39mparse_remote_metadata,\n\u001b[0;32m     56\u001b[0m         timeout\u001b[39m=\u001b[39mtimeout, headers\u001b[39m=\u001b[39mheaders, auth\u001b[39m=\u001b[39mauth)\n",
      "File \u001b[1;32mc:\\Users\\earth\\AppData\\Local\\Programs\\Python\\Python311\\Lib\\site-packages\\owslib\\map\\wms111.py:75\u001b[0m, in \u001b[0;36mWebMapService_1_1_1.__init__\u001b[1;34m(self, url, version, xml, username, password, parse_remote_metadata, headers, timeout, auth)\u001b[0m\n\u001b[0;32m     73\u001b[0m     \u001b[39mself\u001b[39m\u001b[39m.\u001b[39m_capabilities \u001b[39m=\u001b[39m reader\u001b[39m.\u001b[39mreadString(xml)\n\u001b[0;32m     74\u001b[0m \u001b[39melse\u001b[39;00m:  \u001b[39m# read from server\u001b[39;00m\n\u001b[1;32m---> 75\u001b[0m     \u001b[39mself\u001b[39m\u001b[39m.\u001b[39m_capabilities \u001b[39m=\u001b[39m reader\u001b[39m.\u001b[39;49mread(\u001b[39mself\u001b[39;49m\u001b[39m.\u001b[39;49murl, timeout\u001b[39m=\u001b[39;49m\u001b[39mself\u001b[39;49m\u001b[39m.\u001b[39;49mtimeout)\n\u001b[0;32m     77\u001b[0m \u001b[39mself\u001b[39m\u001b[39m.\u001b[39mrequest \u001b[39m=\u001b[39m reader\u001b[39m.\u001b[39mrequest\n\u001b[0;32m     79\u001b[0m \u001b[39m# avoid building capabilities metadata if the\u001b[39;00m\n\u001b[0;32m     80\u001b[0m \u001b[39m# response is a ServiceExceptionReport\u001b[39;00m\n",
      "File \u001b[1;32mc:\\Users\\earth\\AppData\\Local\\Programs\\Python\\Python311\\Lib\\site-packages\\owslib\\map\\common.py:65\u001b[0m, in \u001b[0;36mWMSCapabilitiesReader.read\u001b[1;34m(self, service_url, timeout)\u001b[0m\n\u001b[0;32m     63\u001b[0m \u001b[39m# now split it up again to use the generic openURL function...\u001b[39;00m\n\u001b[0;32m     64\u001b[0m spliturl \u001b[39m=\u001b[39m \u001b[39mself\u001b[39m\u001b[39m.\u001b[39mrequest\u001b[39m.\u001b[39msplit(\u001b[39m'\u001b[39m\u001b[39m?\u001b[39m\u001b[39m'\u001b[39m)\n\u001b[1;32m---> 65\u001b[0m u \u001b[39m=\u001b[39m openURL(spliturl[\u001b[39m0\u001b[39;49m], spliturl[\u001b[39m1\u001b[39;49m], method\u001b[39m=\u001b[39;49m\u001b[39m'\u001b[39;49m\u001b[39mGet\u001b[39;49m\u001b[39m'\u001b[39;49m,\n\u001b[0;32m     66\u001b[0m             timeout\u001b[39m=\u001b[39;49mtimeout, headers\u001b[39m=\u001b[39;49m\u001b[39mself\u001b[39;49m\u001b[39m.\u001b[39;49mheaders, auth\u001b[39m=\u001b[39;49m\u001b[39mself\u001b[39;49m\u001b[39m.\u001b[39;49mauth)\n\u001b[0;32m     68\u001b[0m raw_text \u001b[39m=\u001b[39m strip_bom(u\u001b[39m.\u001b[39mread())\n\u001b[0;32m     69\u001b[0m \u001b[39mreturn\u001b[39;00m etree\u001b[39m.\u001b[39mfromstring(raw_text)\n",
      "File \u001b[1;32mc:\\Users\\earth\\AppData\\Local\\Programs\\Python\\Python311\\Lib\\site-packages\\owslib\\util.py:209\u001b[0m, in \u001b[0;36mopenURL\u001b[1;34m(url_base, data, method, cookies, username, password, timeout, headers, verify, cert, auth)\u001b[0m\n\u001b[0;32m    206\u001b[0m \u001b[39mif\u001b[39;00m cookies \u001b[39mis\u001b[39;00m \u001b[39mnot\u001b[39;00m \u001b[39mNone\u001b[39;00m:\n\u001b[0;32m    207\u001b[0m     rkwargs[\u001b[39m'\u001b[39m\u001b[39mcookies\u001b[39m\u001b[39m'\u001b[39m] \u001b[39m=\u001b[39m cookies\n\u001b[1;32m--> 209\u001b[0m req \u001b[39m=\u001b[39m requests\u001b[39m.\u001b[39;49mrequest(method\u001b[39m.\u001b[39;49mupper(), url_base, headers\u001b[39m=\u001b[39;49mheaders, \u001b[39m*\u001b[39;49m\u001b[39m*\u001b[39;49mrkwargs)\n\u001b[0;32m    211\u001b[0m \u001b[39mif\u001b[39;00m req\u001b[39m.\u001b[39mstatus_code \u001b[39min\u001b[39;00m [\u001b[39m400\u001b[39m, \u001b[39m401\u001b[39m]:\n\u001b[0;32m    212\u001b[0m     \u001b[39mraise\u001b[39;00m ServiceException(req\u001b[39m.\u001b[39mtext)\n",
      "File \u001b[1;32mc:\\Users\\earth\\AppData\\Local\\Programs\\Python\\Python311\\Lib\\site-packages\\requests\\api.py:59\u001b[0m, in \u001b[0;36mrequest\u001b[1;34m(method, url, **kwargs)\u001b[0m\n\u001b[0;32m     55\u001b[0m \u001b[39m# By using the 'with' statement we are sure the session is closed, thus we\u001b[39;00m\n\u001b[0;32m     56\u001b[0m \u001b[39m# avoid leaving sockets open which can trigger a ResourceWarning in some\u001b[39;00m\n\u001b[0;32m     57\u001b[0m \u001b[39m# cases, and look like a memory leak in others.\u001b[39;00m\n\u001b[0;32m     58\u001b[0m \u001b[39mwith\u001b[39;00m sessions\u001b[39m.\u001b[39mSession() \u001b[39mas\u001b[39;00m session:\n\u001b[1;32m---> 59\u001b[0m     \u001b[39mreturn\u001b[39;00m session\u001b[39m.\u001b[39;49mrequest(method\u001b[39m=\u001b[39;49mmethod, url\u001b[39m=\u001b[39;49murl, \u001b[39m*\u001b[39;49m\u001b[39m*\u001b[39;49mkwargs)\n",
      "File \u001b[1;32mc:\\Users\\earth\\AppData\\Local\\Programs\\Python\\Python311\\Lib\\site-packages\\requests\\sessions.py:589\u001b[0m, in \u001b[0;36mSession.request\u001b[1;34m(self, method, url, params, data, headers, cookies, files, auth, timeout, allow_redirects, proxies, hooks, stream, verify, cert, json)\u001b[0m\n\u001b[0;32m    584\u001b[0m send_kwargs \u001b[39m=\u001b[39m {\n\u001b[0;32m    585\u001b[0m     \u001b[39m\"\u001b[39m\u001b[39mtimeout\u001b[39m\u001b[39m\"\u001b[39m: timeout,\n\u001b[0;32m    586\u001b[0m     \u001b[39m\"\u001b[39m\u001b[39mallow_redirects\u001b[39m\u001b[39m\"\u001b[39m: allow_redirects,\n\u001b[0;32m    587\u001b[0m }\n\u001b[0;32m    588\u001b[0m send_kwargs\u001b[39m.\u001b[39mupdate(settings)\n\u001b[1;32m--> 589\u001b[0m resp \u001b[39m=\u001b[39m \u001b[39mself\u001b[39;49m\u001b[39m.\u001b[39;49msend(prep, \u001b[39m*\u001b[39;49m\u001b[39m*\u001b[39;49msend_kwargs)\n\u001b[0;32m    591\u001b[0m \u001b[39mreturn\u001b[39;00m resp\n",
      "File \u001b[1;32mc:\\Users\\earth\\AppData\\Local\\Programs\\Python\\Python311\\Lib\\site-packages\\requests\\sessions.py:747\u001b[0m, in \u001b[0;36mSession.send\u001b[1;34m(self, request, **kwargs)\u001b[0m\n\u001b[0;32m    744\u001b[0m         \u001b[39mpass\u001b[39;00m\n\u001b[0;32m    746\u001b[0m \u001b[39mif\u001b[39;00m \u001b[39mnot\u001b[39;00m stream:\n\u001b[1;32m--> 747\u001b[0m     r\u001b[39m.\u001b[39;49mcontent\n\u001b[0;32m    749\u001b[0m \u001b[39mreturn\u001b[39;00m r\n",
      "File \u001b[1;32mc:\\Users\\earth\\AppData\\Local\\Programs\\Python\\Python311\\Lib\\site-packages\\requests\\models.py:899\u001b[0m, in \u001b[0;36mResponse.content\u001b[1;34m(self)\u001b[0m\n\u001b[0;32m    897\u001b[0m         \u001b[39mself\u001b[39m\u001b[39m.\u001b[39m_content \u001b[39m=\u001b[39m \u001b[39mNone\u001b[39;00m\n\u001b[0;32m    898\u001b[0m     \u001b[39melse\u001b[39;00m:\n\u001b[1;32m--> 899\u001b[0m         \u001b[39mself\u001b[39m\u001b[39m.\u001b[39m_content \u001b[39m=\u001b[39m \u001b[39mb\u001b[39m\u001b[39m\"\u001b[39m\u001b[39m\"\u001b[39m\u001b[39m.\u001b[39mjoin(\u001b[39mself\u001b[39m\u001b[39m.\u001b[39miter_content(CONTENT_CHUNK_SIZE)) \u001b[39mor\u001b[39;00m \u001b[39mb\u001b[39m\u001b[39m\"\u001b[39m\u001b[39m\"\u001b[39m\n\u001b[0;32m    901\u001b[0m \u001b[39mself\u001b[39m\u001b[39m.\u001b[39m_content_consumed \u001b[39m=\u001b[39m \u001b[39mTrue\u001b[39;00m\n\u001b[0;32m    902\u001b[0m \u001b[39m# don't need to release the connection; that's been handled by urllib3\u001b[39;00m\n\u001b[0;32m    903\u001b[0m \u001b[39m# since we exhausted the data.\u001b[39;00m\n",
      "File \u001b[1;32mc:\\Users\\earth\\AppData\\Local\\Programs\\Python\\Python311\\Lib\\site-packages\\requests\\models.py:816\u001b[0m, in \u001b[0;36mResponse.iter_content.<locals>.generate\u001b[1;34m()\u001b[0m\n\u001b[0;32m    814\u001b[0m \u001b[39mif\u001b[39;00m \u001b[39mhasattr\u001b[39m(\u001b[39mself\u001b[39m\u001b[39m.\u001b[39mraw, \u001b[39m\"\u001b[39m\u001b[39mstream\u001b[39m\u001b[39m\"\u001b[39m):\n\u001b[0;32m    815\u001b[0m     \u001b[39mtry\u001b[39;00m:\n\u001b[1;32m--> 816\u001b[0m         \u001b[39myield from\u001b[39;00m \u001b[39mself\u001b[39m\u001b[39m.\u001b[39mraw\u001b[39m.\u001b[39mstream(chunk_size, decode_content\u001b[39m=\u001b[39m\u001b[39mTrue\u001b[39;00m)\n\u001b[0;32m    817\u001b[0m     \u001b[39mexcept\u001b[39;00m ProtocolError \u001b[39mas\u001b[39;00m e:\n\u001b[0;32m    818\u001b[0m         \u001b[39mraise\u001b[39;00m ChunkedEncodingError(e)\n",
      "File \u001b[1;32mc:\\Users\\earth\\AppData\\Local\\Programs\\Python\\Python311\\Lib\\site-packages\\urllib3\\response.py:933\u001b[0m, in \u001b[0;36mHTTPResponse.stream\u001b[1;34m(self, amt, decode_content)\u001b[0m\n\u001b[0;32m    917\u001b[0m \u001b[39m\u001b[39m\u001b[39m\"\"\"\u001b[39;00m\n\u001b[0;32m    918\u001b[0m \u001b[39mA generator wrapper for the read() method. A call will block until\u001b[39;00m\n\u001b[0;32m    919\u001b[0m \u001b[39m``amt`` bytes have been read from the connection or until the\u001b[39;00m\n\u001b[1;32m   (...)\u001b[0m\n\u001b[0;32m    930\u001b[0m \u001b[39m    'content-encoding' header.\u001b[39;00m\n\u001b[0;32m    931\u001b[0m \u001b[39m\"\"\"\u001b[39;00m\n\u001b[0;32m    932\u001b[0m \u001b[39mif\u001b[39;00m \u001b[39mself\u001b[39m\u001b[39m.\u001b[39mchunked \u001b[39mand\u001b[39;00m \u001b[39mself\u001b[39m\u001b[39m.\u001b[39msupports_chunked_reads():\n\u001b[1;32m--> 933\u001b[0m     \u001b[39myield from\u001b[39;00m \u001b[39mself\u001b[39m\u001b[39m.\u001b[39mread_chunked(amt, decode_content\u001b[39m=\u001b[39mdecode_content)\n\u001b[0;32m    934\u001b[0m \u001b[39melse\u001b[39;00m:\n\u001b[0;32m    935\u001b[0m     \u001b[39mwhile\u001b[39;00m \u001b[39mnot\u001b[39;00m is_fp_closed(\u001b[39mself\u001b[39m\u001b[39m.\u001b[39m_fp) \u001b[39mor\u001b[39;00m \u001b[39mlen\u001b[39m(\u001b[39mself\u001b[39m\u001b[39m.\u001b[39m_decoded_buffer) \u001b[39m>\u001b[39m \u001b[39m0\u001b[39m:\n",
      "File \u001b[1;32mc:\\Users\\earth\\AppData\\Local\\Programs\\Python\\Python311\\Lib\\site-packages\\urllib3\\response.py:1076\u001b[0m, in \u001b[0;36mHTTPResponse.read_chunked\u001b[1;34m(self, amt, decode_content)\u001b[0m\n\u001b[0;32m   1074\u001b[0m \u001b[39mif\u001b[39;00m \u001b[39mself\u001b[39m\u001b[39m.\u001b[39mchunk_left \u001b[39m==\u001b[39m \u001b[39m0\u001b[39m:\n\u001b[0;32m   1075\u001b[0m     \u001b[39mbreak\u001b[39;00m\n\u001b[1;32m-> 1076\u001b[0m chunk \u001b[39m=\u001b[39m \u001b[39mself\u001b[39;49m\u001b[39m.\u001b[39;49m_handle_chunk(amt)\n\u001b[0;32m   1077\u001b[0m decoded \u001b[39m=\u001b[39m \u001b[39mself\u001b[39m\u001b[39m.\u001b[39m_decode(\n\u001b[0;32m   1078\u001b[0m     chunk, decode_content\u001b[39m=\u001b[39mdecode_content, flush_decoder\u001b[39m=\u001b[39m\u001b[39mFalse\u001b[39;00m\n\u001b[0;32m   1079\u001b[0m )\n\u001b[0;32m   1080\u001b[0m \u001b[39mif\u001b[39;00m decoded:\n",
      "File \u001b[1;32mc:\\Users\\earth\\AppData\\Local\\Programs\\Python\\Python311\\Lib\\site-packages\\urllib3\\response.py:1027\u001b[0m, in \u001b[0;36mHTTPResponse._handle_chunk\u001b[1;34m(self, amt)\u001b[0m\n\u001b[0;32m   1025\u001b[0m     returned_chunk \u001b[39m=\u001b[39m value\n\u001b[0;32m   1026\u001b[0m \u001b[39melse\u001b[39;00m:  \u001b[39m# amt > self.chunk_left\u001b[39;00m\n\u001b[1;32m-> 1027\u001b[0m     returned_chunk \u001b[39m=\u001b[39m \u001b[39mself\u001b[39;49m\u001b[39m.\u001b[39;49m_fp\u001b[39m.\u001b[39;49m_safe_read(\u001b[39mself\u001b[39;49m\u001b[39m.\u001b[39;49mchunk_left)  \u001b[39m# type: ignore[union-attr]\u001b[39;00m\n\u001b[0;32m   1028\u001b[0m     \u001b[39mself\u001b[39m\u001b[39m.\u001b[39m_fp\u001b[39m.\u001b[39m_safe_read(\u001b[39m2\u001b[39m)  \u001b[39m# type: ignore[union-attr] # Toss the CRLF at the end of the chunk.\u001b[39;00m\n\u001b[0;32m   1029\u001b[0m     \u001b[39mself\u001b[39m\u001b[39m.\u001b[39mchunk_left \u001b[39m=\u001b[39m \u001b[39mNone\u001b[39;00m\n",
      "File \u001b[1;32mc:\\Users\\earth\\AppData\\Local\\Programs\\Python\\Python311\\Lib\\http\\client.py:631\u001b[0m, in \u001b[0;36mHTTPResponse._safe_read\u001b[1;34m(self, amt)\u001b[0m\n\u001b[0;32m    624\u001b[0m \u001b[39mdef\u001b[39;00m \u001b[39m_safe_read\u001b[39m(\u001b[39mself\u001b[39m, amt):\n\u001b[0;32m    625\u001b[0m \u001b[39m    \u001b[39m\u001b[39m\"\"\"Read the number of bytes requested.\u001b[39;00m\n\u001b[0;32m    626\u001b[0m \n\u001b[0;32m    627\u001b[0m \u001b[39m    This function should be used when <amt> bytes \"should\" be present for\u001b[39;00m\n\u001b[0;32m    628\u001b[0m \u001b[39m    reading. If the bytes are truly not available (due to EOF), then the\u001b[39;00m\n\u001b[0;32m    629\u001b[0m \u001b[39m    IncompleteRead exception can be used to detect the problem.\u001b[39;00m\n\u001b[0;32m    630\u001b[0m \u001b[39m    \"\"\"\u001b[39;00m\n\u001b[1;32m--> 631\u001b[0m     data \u001b[39m=\u001b[39m \u001b[39mself\u001b[39m\u001b[39m.\u001b[39mfp\u001b[39m.\u001b[39mread(amt)\n\u001b[0;32m    632\u001b[0m     \u001b[39mif\u001b[39;00m \u001b[39mlen\u001b[39m(data) \u001b[39m<\u001b[39m amt:\n\u001b[0;32m    633\u001b[0m         \u001b[39mraise\u001b[39;00m IncompleteRead(data, amt\u001b[39m-\u001b[39m\u001b[39mlen\u001b[39m(data))\n",
      "File \u001b[1;32mc:\\Users\\earth\\AppData\\Local\\Programs\\Python\\Python311\\Lib\\socket.py:706\u001b[0m, in \u001b[0;36mSocketIO.readinto\u001b[1;34m(self, b)\u001b[0m\n\u001b[0;32m    704\u001b[0m \u001b[39mwhile\u001b[39;00m \u001b[39mTrue\u001b[39;00m:\n\u001b[0;32m    705\u001b[0m     \u001b[39mtry\u001b[39;00m:\n\u001b[1;32m--> 706\u001b[0m         \u001b[39mreturn\u001b[39;00m \u001b[39mself\u001b[39;49m\u001b[39m.\u001b[39;49m_sock\u001b[39m.\u001b[39;49mrecv_into(b)\n\u001b[0;32m    707\u001b[0m     \u001b[39mexcept\u001b[39;00m timeout:\n\u001b[0;32m    708\u001b[0m         \u001b[39mself\u001b[39m\u001b[39m.\u001b[39m_timeout_occurred \u001b[39m=\u001b[39m \u001b[39mTrue\u001b[39;00m\n",
      "File \u001b[1;32mc:\\Users\\earth\\AppData\\Local\\Programs\\Python\\Python311\\Lib\\ssl.py:1311\u001b[0m, in \u001b[0;36mSSLSocket.recv_into\u001b[1;34m(self, buffer, nbytes, flags)\u001b[0m\n\u001b[0;32m   1307\u001b[0m     \u001b[39mif\u001b[39;00m flags \u001b[39m!=\u001b[39m \u001b[39m0\u001b[39m:\n\u001b[0;32m   1308\u001b[0m         \u001b[39mraise\u001b[39;00m \u001b[39mValueError\u001b[39;00m(\n\u001b[0;32m   1309\u001b[0m           \u001b[39m\"\u001b[39m\u001b[39mnon-zero flags not allowed in calls to recv_into() on \u001b[39m\u001b[39m%s\u001b[39;00m\u001b[39m\"\u001b[39m \u001b[39m%\u001b[39m\n\u001b[0;32m   1310\u001b[0m           \u001b[39mself\u001b[39m\u001b[39m.\u001b[39m\u001b[39m__class__\u001b[39m)\n\u001b[1;32m-> 1311\u001b[0m     \u001b[39mreturn\u001b[39;00m \u001b[39mself\u001b[39;49m\u001b[39m.\u001b[39;49mread(nbytes, buffer)\n\u001b[0;32m   1312\u001b[0m \u001b[39melse\u001b[39;00m:\n\u001b[0;32m   1313\u001b[0m     \u001b[39mreturn\u001b[39;00m \u001b[39msuper\u001b[39m()\u001b[39m.\u001b[39mrecv_into(buffer, nbytes, flags)\n",
      "File \u001b[1;32mc:\\Users\\earth\\AppData\\Local\\Programs\\Python\\Python311\\Lib\\ssl.py:1167\u001b[0m, in \u001b[0;36mSSLSocket.read\u001b[1;34m(self, len, buffer)\u001b[0m\n\u001b[0;32m   1165\u001b[0m \u001b[39mtry\u001b[39;00m:\n\u001b[0;32m   1166\u001b[0m     \u001b[39mif\u001b[39;00m buffer \u001b[39mis\u001b[39;00m \u001b[39mnot\u001b[39;00m \u001b[39mNone\u001b[39;00m:\n\u001b[1;32m-> 1167\u001b[0m         \u001b[39mreturn\u001b[39;00m \u001b[39mself\u001b[39;49m\u001b[39m.\u001b[39;49m_sslobj\u001b[39m.\u001b[39;49mread(\u001b[39mlen\u001b[39;49m, buffer)\n\u001b[0;32m   1168\u001b[0m     \u001b[39melse\u001b[39;00m:\n\u001b[0;32m   1169\u001b[0m         \u001b[39mreturn\u001b[39;00m \u001b[39mself\u001b[39m\u001b[39m.\u001b[39m_sslobj\u001b[39m.\u001b[39mread(\u001b[39mlen\u001b[39m)\n",
      "\u001b[1;31mKeyboardInterrupt\u001b[0m: "
     ]
    }
   ],
   "source": [
    "for lat, lon, code in tqdm(zip(loc_lat,loc_lon, sitelist), total = len(loc_lat)):\n",
    "    features = []\n",
    "    box = latLonBoxByWandH(lat,lon,ew_width,ns_height)\n",
    "    \n",
    "    polygon_geom = Polygon(zip(box['lons'], box['lats']))\n",
    "    features.append(Feature(geometry=polygon_geom, properties={\"STE_CODE\": code, \"STE_NAME\": code}))\n",
    "    \n",
    "    feature_collection = FeatureCollection(features)\n",
    "    with open('myfile.geojson', 'w') as f:\n",
    "        dump(feature_collection, f)\n",
    "    \n",
    "    aus = gpd.read_file(\"myfile.geojson\") \n",
    "        \n",
    "        \n",
    "    ornl_wms_url = \"https://webmap.ornl.gov/ogcbroker/wms\"\n",
    "    ornl_wms = wms.WebMapService(ornl_wms_url)\n",
    "    ornl_wcs_url = \"https://webmap.ornl.gov/ogcbroker/wcs\"\n",
    "    ornl_wcs = wcs.WebCoverageService(ornl_wcs_url)\n",
    "    \n",
    "    layer_wcs = ornl_wcs['2017_1']\n",
    "    wcs_meta = f'''Layer title : {layer_wcs.title}\n",
    "    Supported CRS : {layer_wcs.supportedCRS}\n",
    "    Bounding Box : {layer_wcs.boundingboxes}\n",
    "    Formats : {layer_wcs.supportedFormats}\n",
    "    Grid upper limits : {layer_wcs.grid.highlimits}'''\n",
    "    \n",
    "    # GEDI bbox in EPSG:6933 (EASEGrid2.0)\n",
    "    b2 = layer_wcs.boundingboxes[1]['bbox']\n",
    "    # GEDI number of grids across x and y\n",
    "    h = int(layer_wcs.grid.highlimits[0]) + 1\n",
    "    v = int(layer_wcs.grid.highlimits[1]) + 1\n",
    "    # GEDI grid size\n",
    "    res_xy = 1000.895023349667440\n",
    "    # create cell coordinates\n",
    "    x = np.linspace(b2[0]+res_xy, b2[2], num=h)\n",
    "    y = np.linspace(b2[3]-res_xy, b2[1], num=v)\n",
    "    # convert australia polygon geopandas to EASEGRID 2\n",
    "    aus_ease = aus.to_crs('EPSG:6933')\n",
    "    # compute min, max bounds\n",
    "    xmin, ymin, xmax, ymax = aus_ease.total_bounds\n",
    "    # find the min, max bounds that aligns with\n",
    "    # EASEGRID cell coordinates\n",
    "    xmin = x[np.abs(x - xmin).argmin()]\n",
    "    ymin = y[np.abs(y - ymin).argmin()]\n",
    "    xmax = x[(np.abs(x - xmin).argmin())+2]\n",
    "    ymax = y[(np.abs(y - ymin).argmin())-2]\n",
    "    \n",
    "    # mean AGBD and quality flag layers\n",
    "    layers = ['2017_1']\n",
    "\n",
    "    # loop over layers\n",
    "    for lyr in layers:\n",
    "        # WCS request\n",
    "        cov = ornl_wcs.getCoverage(identifier=lyr,\n",
    "                                bbox=(xmin, ymin, xmax, ymax),\n",
    "                                crs='EPSG:6933',\n",
    "                                format='GeoTIFF_FLOAT32',\n",
    "                                resx=res_xy, resy=res_xy)\n",
    "        # save the results to GeoTIFFs\n",
    "        otif = f\"./clipped_gedi/{code}_{lyr}.tif\"\n",
    "        print(f\"writing {otif}\")\n",
    "        with open(otif, 'wb') as f:\n",
    "            f.write(cov.read())"
   ]
  },
  {
   "cell_type": "markdown",
   "metadata": {},
   "source": [
    "## Visualizing with Web Map Service (WMS)\n",
    "We will first retrieve the ORNL DAAC's WMS capabilities document. The WMS capabilities document allows access to service-level metadata, operations and output formats supported, and the list of available layers. Let's connect to ORNL DAAC's WMS service and print the number of available WMS layers."
   ]
  },
  {
   "cell_type": "code",
   "execution_count": null,
   "metadata": {},
   "outputs": [],
   "source": [
    "ornl_wms_url = \"https://webmap.ornl.gov/ogcbroker/wms\"\n",
    "ornl_wms = wms.WebMapService(ornl_wms_url)\n",
    "print(f'{ornl_wms.identification.title} currently provides {len(ornl_wms.contents)} WMS layers.')"
   ]
  },
  {
   "cell_type": "markdown",
   "metadata": {},
   "source": [
    "## Access data with Web Coverage Service (WCS)\n",
    "Let's retrieve the ORNL's WCS capabilities document. The capabilities document provides operations and services offered by the WCS Server. We will first retrieve the data for the Australia bounding box and then compute summaries for the states and territories."
   ]
  },
  {
   "cell_type": "code",
   "execution_count": null,
   "metadata": {},
   "outputs": [],
   "source": [
    "ornl_wcs_url = \"https://webmap.ornl.gov/ogcbroker/wcs\"\n",
    "ornl_wcs = wcs.WebCoverageService(ornl_wcs_url)\n",
    "print(f'{ornl_wcs.identification.title} currently provides {len(ornl_wcs.contents)} WCS layers.')"
   ]
  },
  {
   "cell_type": "code",
   "execution_count": null,
   "id": "a1e6c2c4",
   "metadata": {},
   "outputs": [],
   "source": [
    "layer_wcs = ornl_wcs['2017_1']\n",
    "wcs_meta = f'''Layer title : {layer_wcs.title}\n",
    "Supported CRS : {layer_wcs.supportedCRS}\n",
    "Bounding Box : {layer_wcs.boundingboxes}\n",
    "Formats : {layer_wcs.supportedFormats}\n",
    "Grid upper limits : {layer_wcs.grid.highlimits}'''\n",
    "print(wcs_meta)"
   ]
  },
  {
   "cell_type": "markdown",
   "metadata": {},
   "source": [
    "The GEDI L4B grids natively use a [global 1km EASEGrid 2.0 (epsg:6933)](https://nsidc.org/ease/ease-grid-projection-gt). Its grid size is `1000.895023349667440 meters`. Using the bounding box and horizontal and vertical grid sizes, let's compute the bounding box of Australia that aligns with the 1km EASEGRID."
   ]
  },
  {
   "cell_type": "code",
   "execution_count": null,
   "metadata": {},
   "outputs": [],
   "source": [
    "# GEDI bbox in EPSG:6933 (EASEGrid2.0)\n",
    "b2 = layer_wcs.boundingboxes[1]['bbox']\n",
    "# GEDI number of grids across x and y\n",
    "h = int(layer_wcs.grid.highlimits[0]) + 1\n",
    "v = int(layer_wcs.grid.highlimits[1]) + 1\n",
    "# GEDI grid size\n",
    "res_xy = 1000.895023349667440\n",
    "# create cell coordinates\n",
    "x = np.linspace(b2[0]+res_xy, b2[2], num=h)\n",
    "y = np.linspace(b2[3]-res_xy, b2[1], num=v)\n",
    "# convert australia polygon geopandas to EASEGRID 2\n",
    "aus_ease = aus.to_crs('EPSG:6933')\n",
    "# compute min, max bounds\n",
    "xmin, ymin, xmax, ymax = aus_ease.total_bounds\n",
    "# find the min, max bounds that aligns with\n",
    "# EASEGRID cell coordinates\n",
    "xmin = x[np.abs(x - xmin).argmin()]\n",
    "ymin = y[np.abs(y - ymin).argmin()]\n",
    "xmax = x[np.abs(x - xmax).argmin()]\n",
    "ymax = y[np.abs(y - ymax).argmin()]"
   ]
  },
  {
   "cell_type": "markdown",
   "metadata": {},
   "source": [
    "Let's read the band data and transformation and nodata information of the above GeoTIFF. We will also plot the images."
   ]
  },
  {
   "cell_type": "code",
   "execution_count": null,
   "metadata": {},
   "outputs": [],
   "source": [
    "# read mean AGBD layer\n",
    "with rio.open('./clipped_gedi/k_1_2017_1.tif', 'r') as src:\n",
    "    affine = src.transform\n",
    "    nodata = src.nodata\n",
    "    l4a_agbd = src.read(1)\n",
    "\n",
    "# plot images\n",
    "fig, (ax_agbd, ax_qa) = plt.subplots(1, 2, figsize=(21, 7))\n",
    "show(l4a_agbd, ax=ax_agbd, title='Mean AGBD')\n",
    "plt.show()"
   ]
  },
  {
   "cell_type": "markdown",
   "metadata": {},
   "source": [
    "We have AGBD values saved in the array `l4a_agbd` and quality flags saved in the array `l4a_qa`. We can use these to compute basic AGBD statistics for the states/territories of Australia."
   ]
  },
  {
   "cell_type": "code",
   "execution_count": null,
   "metadata": {},
   "outputs": [],
   "source": [
    "# assign nodata to grids with QA value != 2 \n",
    "l4a_agbd[l4a_qa!=2] = nodata\n",
    "# assign nodata to grids with QA value != 1\n",
    "l4a_qa[l4a_qa!=1] = nodata2\n",
    "\n",
    "# compute grid size in hectares\n",
    "grid_ha = (res_xy * res_xy) / 10000\n",
    "# create a new column to store state area in hectare\n",
    "aus_ease['area_ha'] = aus_ease['geometry'].area / 10000\n",
    "\n",
    "# loop through each states\n",
    "for j in aus_ease.index:\n",
    "    # compute AGBD statistics for each state\n",
    "    stats1 = zonal_stats(vectors=aus_ease.iloc[j].geometry, raster=l4a_agbd, affine=affine, nodata=nodata,\n",
    "                                 stats=['sum', 'mean', 'count'])\n",
    "    aus_ease.at[j, 'agb_total'] = stats1[0]['sum']\n",
    "    aus_ease.at[j, 'count_good'] = stats1[0]['count']\n",
    "    \n",
    "    # compute total land count (l4a_qa == [1,2])\n",
    "    stats2 = zonal_stats(vectors=aus_ease.iloc[j].geometry, raster=l4a_qa, affine=affine, nodata=nodata2,\n",
    "                                 stats=['count'])\n",
    "    aus_ease.at[j, 'count_land'] = stats1[0]['count'] + stats2[0]['count']\n",
    "\n",
    "# percent grids meeting L1 requirement\n",
    "aus_ease['percent_good_grids']= (aus_ease['count_good'] / aus_ease['count_land']) *100 #count_good and #count_land are 0, hence NaN values\n",
    "# total AGB in Mg\n",
    "aus_ease['agb_total_Mg']= aus_ease['agb_total'] * aus_ease['count_good'] * grid_ha\n",
    "# Mean AGB for states\n",
    "aus_ease['agbd_mean']= aus_ease['agb_total_Mg'] / aus_ease['area_ha']\n",
    "# printing the statistics\n",
    "aus_ease[['STE_NAME', 'area_ha', 'percent_good_grids', 'agb_total_Mg', 'agbd_mean']]"
   ]
  },
  {
   "cell_type": "markdown",
   "metadata": {
    "scrolled": true
   },
   "source": [
    "In the above table, `area_ha` is the area of the state/territory in hectares; `percent_good_grids` is the percentage of the GEDI L4B grids that meets GEDI L1 mission requirement (percent standard error <20% or standard error < 20 Mg ha-1); `agb_total_Mg` is the total aboveground biomass in Mg for all grids that meets L1 mission requirement; and `agbd_mean` is mean AGBD for the state/territory in Mg ha-1."
   ]
  }
 ],
 "metadata": {
  "kernelspec": {
   "display_name": "Python 3",
   "language": "python",
   "name": "python3"
  },
  "language_info": {
   "codemirror_mode": {
    "name": "ipython",
    "version": 3
   },
   "file_extension": ".py",
   "mimetype": "text/x-python",
   "name": "python",
   "nbconvert_exporter": "python",
   "pygments_lexer": "ipython3",
   "version": "3.11.6"
  }
 },
 "nbformat": 4,
 "nbformat_minor": 5
}
