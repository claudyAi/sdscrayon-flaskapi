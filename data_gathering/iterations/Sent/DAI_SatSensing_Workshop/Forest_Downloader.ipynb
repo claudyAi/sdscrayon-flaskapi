{
 "cells": [
  {
   "cell_type": "markdown",
   "metadata": {},
   "source": [
    "## Downloading Satellite Imagery Procedurally from Metadata "
   ]
  },
  {
   "cell_type": "markdown",
   "metadata": {},
   "source": [
    "This notebook will utilise the metadata generated from the other one - to procedurally download, warp and store images of airports based on the Aviation Fanatic scraped dataset. "
   ]
  },
  {
   "cell_type": "code",
   "execution_count": null,
   "metadata": {},
   "outputs": [],
   "source": [
    "import json\n",
    "from tqdm import tqdm\n",
    "import requests\n",
    "import os\n",
    "import rasterio as rio\n",
    "from rasterio.mask import mask\n",
    "from osgeo import gdal\n",
    "import pickle\n",
    "import numpy as np"
   ]
  },
  {
   "cell_type": "markdown",
   "metadata": {
    "tags": []
   },
   "source": [
    "### Register for an account and replace XXX with your credentials\n",
    "\n",
    "https://scihub.copernicus.eu/dhus/#/home"
   ]
  },
  {
   "cell_type": "code",
   "execution_count": null,
   "metadata": {},
   "outputs": [],
   "source": [
    "batch = \"prelim\""
   ]
  },
  {
   "cell_type": "code",
   "execution_count": null,
   "metadata": {},
   "outputs": [],
   "source": [
    "with open(\"ForestCoords.json\", \"r\") as infile:\n",
    "    airportDownloadDriver = json.load(infile)"
   ]
  },
  {
   "cell_type": "code",
   "execution_count": null,
   "metadata": {
    "tags": []
   },
   "outputs": [],
   "source": [
    "fNames = []\n",
    "qUrls = []\n",
    "datestamp = []\n",
    "processedfNames = []\n",
    "\n",
    "for codes in tqdm(sitelist, total = len(sitelist)):\n",
    "    # qUrls.append(airportDownloadDriver[codes][\"product_url\"])\n",
    "#     testing with google URL\n",
    "    qUrls.append(airportDownloadDriver[codes][\"goog_url\"])\n",
    "    fNames.append(airportDownloadDriver[codes][\"product_filename\"])\n",
    "    processedfNames.append(airportDownloadDriver[codes][\"processed_filename\"])\n",
    "    datestamp.append(airportDownloadDriver[codes][\"tile_date\"][:8])"
   ]
  },
  {
   "cell_type": "code",
   "execution_count": null,
   "metadata": {},
   "outputs": [],
   "source": [
    "raw_directory = f\"../img_data/{batch}/raw/\"\n",
    "os.makedirs(raw_directory, exist_ok=True)"
   ]
  },
  {
   "cell_type": "code",
   "execution_count": null,
   "metadata": {},
   "outputs": [],
   "source": [
    "# os.stat(f\"{raw_directory}/MJF_T32WPU_20210828T104619_TCI_10m.jp2\").st_size "
   ]
  },
  {
   "cell_type": "code",
   "execution_count": null,
   "metadata": {},
   "outputs": [],
   "source": [
    "def getImages(fNames,urls,iata):\n",
    "    for names,urls,ia in tqdm(zip(fNames,urls,iata),total = len(iata), leave = False):\n",
    "        try:\n",
    "#             Chceking if existing file is valid\n",
    "            productName = f\"{ia}_{names}\"\n",
    "            if productName in os.listdir(raw_directory):\n",
    "                productSize = int(str(os.stat(f\"{raw_directory}/{productName}\").st_size))\n",
    "                if productSize > 1000:\n",
    "                    # print(\"File already exists! skipping\")\n",
    "                    continue\n",
    "            # else:\n",
    "            # print(\"File doesn't exist! Downloading\")\n",
    "            \n",
    "            # r = requests.get(urls,auth = (user,password))\n",
    "            \n",
    "#             Without authentication for google storage\n",
    "            r = requests.get(urls)\n",
    "\n",
    "            # if r.status_code ==200\n",
    "            with open(f\"{raw_directory}/{str(ia)}_{str(names)}\",'wb') as f: \n",
    "                f.write(r.content) \n",
    "            f.close()\n",
    "            \n",
    "        except Exception as e:\n",
    "            print(ia,e)\n",
    "            # print(\"Error Downloading File! Storing Metadata\")\n",
    "            with open(f\"../datafiles/missing/{str(ia)}.json\",'wb') as missingTile:\n",
    "                json.dump(airportDownloadDriver[ia], missingTile)"
   ]
  },
  {
   "cell_type": "code",
   "execution_count": null,
   "metadata": {},
   "outputs": [],
   "source": [
    "getImages(fNames,qUrls,sitelist)"
   ]
  },
  {
   "cell_type": "code",
   "execution_count": null,
   "metadata": {},
   "outputs": [],
   "source": [
    "brokenList = []\n",
    "for file in os.listdir(raw_directory):\n",
    "    if os.stat(f\"{raw_directory}/{file}\").st_size < 2048:\n",
    "        brokenList.append(airportDownloadDriver[file[:3]][\"product_url\"])"
   ]
  },
  {
   "cell_type": "code",
   "execution_count": null,
   "metadata": {},
   "outputs": [],
   "source": [
    "len(brokenList)"
   ]
  },
  {
   "cell_type": "markdown",
   "metadata": {},
   "source": [
    "## Warping the Products"
   ]
  },
  {
   "cell_type": "code",
   "execution_count": null,
   "metadata": {},
   "outputs": [],
   "source": [
    "sortedFileList = []\n",
    "for ia in tqdm(sitelist):\n",
    "    for files in os.listdir(raw_directory):\n",
    "        if files.endswith(\".jp2\") and files[:3] == ia[:3]:\n",
    "            sortedFileList.append(files)\n",
    "# sortedFileList"
   ]
  },
  {
   "cell_type": "code",
   "execution_count": null,
   "metadata": {},
   "outputs": [],
   "source": [
    "dataArr = []\n",
    "for items in tqdm(sortedFileList, total=len(sitelist)):\n",
    "    data = rio.open(f\"{raw_directory}/{str(items)}\")\n",
    "    #print(items)\n",
    "    #print(data.meta['crs'])\n",
    "    dataArr.append(data)\n",
    "    data.close()"
   ]
  },
  {
   "cell_type": "code",
   "execution_count": null,
   "metadata": {},
   "outputs": [],
   "source": [
    "dataArr"
   ]
  },
  {
   "cell_type": "code",
   "execution_count": null,
   "metadata": {},
   "outputs": [],
   "source": [
    "dataArr[0].meta"
   ]
  },
  {
   "cell_type": "code",
   "execution_count": null,
   "metadata": {},
   "outputs": [],
   "source": [
    "targetPath = f\"../img_data/{batch}/warped/\"\n",
    "os.makedirs(targetPath, exist_ok=True)"
   ]
  },
  {
   "cell_type": "markdown",
   "metadata": {
    "jupyter": {
     "outputs_hidden": true
    },
    "tags": []
   },
   "source": [
    "os.listdir(targetPath)"
   ]
  },
  {
   "cell_type": "code",
   "execution_count": null,
   "metadata": {},
   "outputs": [],
   "source": [
    "fileNames,file = [],[]\n",
    "for items,meta,ia in tqdm(zip(sortedFileList,dataArr,sitelist),total = len(sitelist)):\n",
    "    openFile = f\"{raw_directory}/{str(items)}\"\n",
    "    # saveFileName = str(sitelist.index(str(ia)) + 1) + \"_\"  + str(items)[:-4] + \".tiff\"\n",
    "    saveFileName = str(items)[:-4] + \".tiff\"\n",
    "    saveFile = targetPath + saveFileName\n",
    "    fileNames.append(saveFile)\n",
    "    if saveFileName not in os.listdir(targetPath):\n",
    "    #print(openFile)\n",
    "        input_raster = gdal.Open(openFile)\n",
    "        #print(saveFile)\n",
    "        gdal.Warp(saveFile,\n",
    "                  openFile,\n",
    "                  dstSRS = 'epsg:4326',\n",
    "                  width = str(meta.meta['width']),\n",
    "                  height = str(meta.meta['height'])\n",
    "                 )\n",
    "        continue\n",
    "    "
   ]
  },
  {
   "cell_type": "code",
   "execution_count": null,
   "metadata": {},
   "outputs": [],
   "source": [
    "fileNames"
   ]
  },
  {
   "cell_type": "markdown",
   "metadata": {},
   "source": [
    "## Loading Polygons generated from Shapely"
   ]
  },
  {
   "cell_type": "code",
   "execution_count": null,
   "metadata": {},
   "outputs": [],
   "source": [
    "current_set = \"10\""
   ]
  },
  {
   "cell_type": "code",
   "execution_count": null,
   "metadata": {},
   "outputs": [],
   "source": [
    "polygons = []\n",
    "for codes in tqdm(sitelist[0:10], total = len(sitelist[0:10])):\n",
    "    # Load polygon from disc\n",
    "    with open(\"copingmarkers.shp\", \"rb\") as poly_file:\n",
    "        polygons.append(pickle.load(poly_file))\n",
    "    # f = open(\"copingmarkers.shp\", \"rb\")\n",
    "    # content = f.read()\n",
    "    # polygons.append(content)\n",
    "    # f.close()"
   ]
  },
  {
   "cell_type": "code",
   "execution_count": null,
   "metadata": {},
   "outputs": [],
   "source": [
    "polygons[0]"
   ]
  },
  {
   "cell_type": "code",
   "execution_count": null,
   "metadata": {},
   "outputs": [],
   "source": [
    "geoms = []\n",
    "for i in range(0,len(datestamp)):\n",
    "    geoms.append(polygons[i]['geometry'])"
   ]
  },
  {
   "cell_type": "code",
   "execution_count": null,
   "metadata": {},
   "outputs": [],
   "source": [
    "clipped_path = f\"../img_data/{batch}/clipped/{current_set}\"\n",
    "os.makedirs(clipped_path, exist_ok=True)"
   ]
  },
  {
   "cell_type": "code",
   "execution_count": null,
   "metadata": {},
   "outputs": [],
   "source": [
    "len(datestamp)"
   ]
  },
  {
   "cell_type": "code",
   "execution_count": null,
   "metadata": {},
   "outputs": [],
   "source": [
    "for names,outNames, g,date,ia in tqdm(zip(fileNames, processedfNames,geoms,testdatestamp,sitelist),total = len(fileNames)):\n",
    "    try:\n",
    "        with rio.open(names) as src:\n",
    "                out_image, out_transform = mask(src, g, crop=True, filled=True)\n",
    "                out_meta = src.meta.copy()\n",
    "\n",
    "        out_meta.update({\"driver\": \"GTiff\",\n",
    "                             \"height\": out_image.shape[1],\n",
    "                             \"width\": out_image.shape[2],\n",
    "                             \"transform\": out_transform})\n",
    "\n",
    "        with rio.open(f\"{clipped_path}/{outNames}\", \"w\", **out_meta) as dest:\n",
    "            dest.write(out_image)\n",
    "        # os.remove(titlelist[k][i])\n",
    "        # print(ia)\n",
    "        src.close()\n",
    "        dest.close()\n",
    "    except Exception as e:\n",
    "        print(e)\n",
    "        continue"
   ]
  }
 ],
 "metadata": {
  "kernelspec": {
   "display_name": "Python 3",
   "language": "python",
   "name": "python3"
  },
  "language_info": {
   "codemirror_mode": {
    "name": "ipython",
    "version": 3
   },
   "file_extension": ".py",
   "mimetype": "text/x-python",
   "name": "python",
   "nbconvert_exporter": "python",
   "pygments_lexer": "ipython3",
   "version": "3.11.6"
  }
 },
 "nbformat": 4,
 "nbformat_minor": 4
}
